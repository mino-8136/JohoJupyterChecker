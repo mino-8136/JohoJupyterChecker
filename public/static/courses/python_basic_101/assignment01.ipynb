{
 "cells": [
  {
   "cell_type": "markdown",
   "metadata": {},
   "source": [
    "# Lesson 1: 画面表示と四則演算"
   ]
  },
  {
   "cell_type": "markdown",
   "metadata": {},
   "source": [
    "## 目標\n",
    "- 文字列と数値の表示方法を理解する\n",
    "- 文字列と数値の違いを実感する\n",
    "- 数値を使った基本的な四則演算を理解する"
   ]
  },
  {
   "cell_type": "markdown",
   "metadata": {},
   "source": [
    "## 概要\n",
    "- プログラミングの最初の一歩は、コンピュータに何かを表示させることから始まります。Pythonでは`print`関数を使って、画面に文字や数値を表示することができます。\n",
    "- プログラムでは数値を扱うことがよくあります。Pythonでは簡単に数値の計算を行うことができます。"
   ]
  },
  {
   "cell_type": "markdown",
   "metadata": {},
   "source": [
    "---"
   ]
  },
  {
   "cell_type": "markdown",
   "metadata": {},
   "source": [
    "### **① print関数を使って画面に表示する**\n",
    "- `print`関数を使うと画面に情報を表示することができます。文字列を表示するには、**ダブルクォーテーション** `\"` （=Shift+2）で囲みます。\n",
    "\n",
    "- 下のコード欄にカーソルを合わせると出てくる「▷」ボタンで実行してみましょう。"
   ]
  },
  {
   "cell_type": "code",
   "execution_count": null,
   "metadata": {},
   "outputs": [],
   "source": [
    "print(\"こんにちは\")  # ダブルクオーテーション\n",
    "print('こんばんは')  # シングルクォーテーションでも可 (=Shift+7)"
   ]
  },
  {
   "cell_type": "markdown",
   "metadata": {},
   "source": [
    "- 文字列ではなく**数値**を表示する場合は、クォーテーションで囲む必要はありません。"
   ]
  },
  {
   "cell_type": "code",
   "execution_count": null,
   "metadata": {},
   "outputs": [],
   "source": [
    "print(123)"
   ]
  },
  {
   "cell_type": "markdown",
   "metadata": {},
   "source": [
    "### **② 四則演算**\n",
    "- Pythonでは以下のような演算記号を用いて四則演算ができます。"
   ]
  },
  {
   "cell_type": "code",
   "execution_count": null,
   "metadata": {},
   "outputs": [],
   "source": [
    "print(1 + 1)   # 足し算\n",
    "print(5 - 3)   # 引き算\n",
    "print(2 * 3)   # 掛け算(アスタリスク記号)\n",
    "print(8 / 2)   # 割り算(スラッシュ記号)\n",
    "print((2+3) / 5) # ()でくくると優先されます"
   ]
  },
  {
   "cell_type": "markdown",
   "metadata": {},
   "source": [
    "### **③ コメントを使いこなそう！**\n",
    "- プログラム中に`#`を書くと、その部分は**実行時に無視**されるようになります。\n",
    "- この操作は、日本語で説明(**コメント**)を書いたり、不要な行を消さずに残したり(**コメントアウト**)、という用途でよく使います。"
   ]
  },
  {
   "cell_type": "code",
   "execution_count": null,
   "metadata": {},
   "outputs": [],
   "source": [
    "# ここではコメントアウトの説明をします。\n",
    "プログラムにいきなり日本語を書くとエラーが出ます。この行の先頭に「#」を書いてみましょう。\n",
    "\n",
    "print(\"この行は表示される？\")\n",
    "# print(\"この行はどう？見えてたら返事してください！\")\n",
    "# print(\"おーい！だれかいませんか！\")"
   ]
  },
  {
   "cell_type": "markdown",
   "metadata": {},
   "source": [
    "---"
   ]
  },
  {
   "cell_type": "markdown",
   "metadata": {},
   "source": [
    "## 演習問題"
   ]
  },
  {
   "cell_type": "markdown",
   "metadata": {},
   "source": [
    "【課題1】`こんにちは`  という文字列を表示してください。"
   ]
  },
  {
   "cell_type": "code",
   "execution_count": null,
   "metadata": {},
   "outputs": [],
   "source": [
    "print()"
   ]
  },
  {
   "cell_type": "markdown",
   "metadata": {},
   "source": [
    "【課題2】`1024`という**数値**を表示してください。"
   ]
  },
  {
   "cell_type": "code",
   "execution_count": null,
   "metadata": {},
   "outputs": [],
   "source": [
    "print()"
   ]
  },
  {
   "cell_type": "markdown",
   "metadata": {},
   "source": [
    "【課題3】次のコードを修正して、正しく`Hello World!`と表示できるようにしてください。"
   ]
  },
  {
   "cell_type": "code",
   "execution_count": null,
   "metadata": {},
   "outputs": [],
   "source": [
    "print(Hello World!)"
   ]
  },
  {
   "cell_type": "markdown",
   "metadata": {},
   "source": [
    "【課題4】次のコードを修正して、正しく`8`と表示できるようにしてください。"
   ]
  },
  {
   "cell_type": "code",
   "execution_count": null,
   "metadata": {},
   "outputs": [],
   "source": [
    "print(5 + \"3\")"
   ]
  },
  {
   "cell_type": "markdown",
   "metadata": {},
   "source": [
    "【課題5】1200を5で割った結果を表示するコードを書いてください。"
   ]
  },
  {
   "cell_type": "code",
   "execution_count": null,
   "metadata": {},
   "outputs": [],
   "source": [
    "# 課題5\n"
   ]
  },
  {
   "cell_type": "markdown",
   "metadata": {},
   "source": [
    "【課題6】旅行の予算を計算して表示してください。1日の予算が13500円で、5日間の旅行を計画しています。"
   ]
  },
  {
   "cell_type": "code",
   "execution_count": null,
   "metadata": {},
   "outputs": [],
   "source": [
    "# 課題6\n"
   ]
  },
  {
   "cell_type": "markdown",
   "metadata": {},
   "source": [
    "【課題7】`(2 + 3) * 4`の計算結果を表示するコードを書いてください。"
   ]
  },
  {
   "cell_type": "code",
   "execution_count": null,
   "metadata": {},
   "outputs": [],
   "source": [
    "# 課題7\n"
   ]
  },
  {
   "cell_type": "markdown",
   "metadata": {},
   "source": [
    "【課題8】本の合計金額を計算してください。1冊の価格が1500円で、3冊購入します。そして今回はまとめ買いセール中のため全体から1割引きになりました。"
   ]
  },
  {
   "cell_type": "code",
   "execution_count": null,
   "metadata": {},
   "outputs": [],
   "source": [
    "# 課題8\n"
   ]
  },
  {
   "cell_type": "markdown",
   "metadata": {},
   "source": [
    "【課題9】この問題を通じ、`print`関数では`,`を使って2つ以上の値を出力できることを確認してください。\n",
    "そして数字を書き換えて`Age: 15`と表示してください。"
   ]
  },
  {
   "cell_type": "code",
   "execution_count": null,
   "metadata": {},
   "outputs": [],
   "source": [
    "print(\"Age:\", 20)"
   ]
  },
  {
   "cell_type": "markdown",
   "metadata": {},
   "source": [
    "【課題10】`25+25の合計は`という文字列と、その答えを1行で表示するコードを書いてください。"
   ]
  },
  {
   "cell_type": "code",
   "execution_count": null,
   "metadata": {},
   "outputs": [],
   "source": [
    "print(\"25+25の合計は\", \"ここを上書き\")"
   ]
  },
  {
   "cell_type": "markdown",
   "metadata": {},
   "source": [
    "【課題11】2の16乗を計算して表示するコードを書いてください。ヒント: 累乗は`**`を使います。"
   ]
  },
  {
   "cell_type": "code",
   "execution_count": null,
   "metadata": {},
   "outputs": [],
   "source": [
    "# 課題11\n"
   ]
  },
  {
   "cell_type": "markdown",
   "metadata": {},
   "source": [
    "【課題12】10を3で割った商と余りを計算して1行で表示してください。ヒント: 商は`//`、余りは`%`を使います。"
   ]
  },
  {
   "cell_type": "code",
   "execution_count": null,
   "metadata": {},
   "outputs": [],
   "source": [
    "print(\"商:\", \"ここを上書き\", \"余り:\", \"ここを上書き\")"
   ]
  }
 ],
 "metadata": {
  "kernelspec": {
   "display_name": "Python 3",
   "language": "python",
   "name": "python3"
  },
  "language_info": {
   "codemirror_mode": {
    "name": "ipython",
    "version": 3
   },
   "file_extension": ".py",
   "mimetype": "text/x-python",
   "name": "python",
   "nbconvert_exporter": "python",
   "pygments_lexer": "ipython3",
   "version": "3.12.3"
  }
 },
 "nbformat": 4,
 "nbformat_minor": 2
}
