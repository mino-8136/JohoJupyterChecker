{
 "cells": [
  {
   "cell_type": "markdown",
   "metadata": {},
   "source": [
    "# **Lesson 4: 条件分岐とelse**\n",
    "\n",
    "## **目標**\n",
    "\n",
    "\n",
    "\n",
    "## 概要\n",
    "\n",
    "\n",
    "\n",
    "---\n",
    "\n",
    "### **① if文と比較演算子**\n",
    "\n"
   ]
  },
  {
   "cell_type": "code",
   "execution_count": null,
   "metadata": {},
   "outputs": [],
   "source": [
    "data = input(\"挨拶を入力してください: \")\n",
    "if data == \"こんにちは\":   #←「こんにちは」が入力された場合に以下を実行\n",
    "    print(\"こんにちは\")        #←行頭にインデントを付ける必要がある(TABキーです)"
   ]
  },
  {
   "cell_type": "markdown",
   "metadata": {},
   "source": [
    "----"
   ]
  },
  {
   "cell_type": "markdown",
   "metadata": {},
   "source": [
    "## 演習問題"
   ]
  },
  {
   "cell_type": "markdown",
   "metadata": {},
   "source": [
    "【課題1】Inputで文字列が渡される。その文字列の文字数を出力せよ。"
   ]
  },
  {
   "cell_type": "code",
   "execution_count": null,
   "metadata": {},
   "outputs": [],
   "source": [
    "# 課題1\n",
    "text = input()\n",
    "print(len(text))"
   ]
  },
  {
   "cell_type": "markdown",
   "metadata": {},
   "source": [
    "【課題2】2つのInputで文字列Tと数値Nが渡される。文字列TのN番目の文字を出力せよ。ただし、番号は先頭が0とし、指定された番号が文字列を超える場合は「エラー」と出力せよ。"
   ]
  },
  {
   "cell_type": "code",
   "execution_count": null,
   "metadata": {},
   "outputs": [],
   "source": [
    "# 課題2\n",
    "T = input()\n",
    "N = int(input())\n",
    "if N < len(T):\n",
    "    print(T[N])\n",
    "else:\n",
    "    print(\"エラー\")"
   ]
  },
  {
   "cell_type": "markdown",
   "metadata": {},
   "source": [
    "【課題3】Inputで文字列が渡される。その文字列を逆順にして出力せよ。"
   ]
  },
  {
   "cell_type": "code",
   "execution_count": null,
   "metadata": {},
   "outputs": [],
   "source": [
    "# 課題3\n",
    "text = input()\n",
    "print(text[::-1])"
   ]
  },
  {
   "cell_type": "markdown",
   "metadata": {},
   "source": [
    "【課題4】Inputで文字列が渡される。その文字列の先頭の文字と最後の文字をつなげて出力せよ。"
   ]
  },
  {
   "cell_type": "code",
   "execution_count": null,
   "metadata": {},
   "outputs": [],
   "source": [
    "# 課題4\n",
    "text = input()\n",
    "print(text[0] + text[-1])"
   ]
  },
  {
   "cell_type": "markdown",
   "metadata": {},
   "source": [
    "【課題5】2つのInputで文字列Tと数値Nが渡される。文字列Tを「数値N」の回数だけ繰り返した文章を出力せよ。"
   ]
  },
  {
   "cell_type": "code",
   "execution_count": null,
   "metadata": {},
   "outputs": [],
   "source": [
    "# 課題5\n",
    "T = input()\n",
    "N = int(input())\n",
    "print(T * N)"
   ]
  },
  {
   "cell_type": "markdown",
   "metadata": {},
   "source": [
    "【課題6】2つのInputで文字列A・Bが渡される。文字列Aの中に文字列Bが含まれるときに「ある」、含まれなければ「ない」を出力せよ。\n",
    "\n",
    "- (例1) すいどうばし　いどう　⇒　ある\n",
    "- (例2) きたかんとう　かだん　⇒　ない"
   ]
  },
  {
   "cell_type": "code",
   "execution_count": null,
   "metadata": {},
   "outputs": [],
   "source": [
    "# 課題6\n",
    "A = input()\n",
    "B = input()\n",
    "if B in A:\n",
    "    print(\"ある\")\n",
    "else:\n",
    "    print(\"ない\")"
   ]
  },
  {
   "cell_type": "markdown",
   "metadata": {},
   "source": [
    "【課題7】2つのInputで長文の文字列Tと、文字Cが渡される。文字列Tの中に文字Cが何回含まれるかを出力せよ。ただし、大文字と小文字の区別は行わない。"
   ]
  },
  {
   "cell_type": "code",
   "execution_count": null,
   "metadata": {},
   "outputs": [],
   "source": [
    "# 課題7\n",
    "T = input().lower()\n",
    "C = input().lower()\n",
    "print(T.count(C))"
   ]
  },
  {
   "cell_type": "markdown",
   "metadata": {},
   "source": [
    "【課題8】5つのInputで、長文の文字列Tと、文字列C・D・E・Fが渡される。文字列Tの中に含まれる文字列C・D・E・Fのうち、最も登場回数の多い文字列を出力せよ。なお、この問題では各文字の登場回数はすべて異なる。また、大文字と小文字の区別は行わない。"
   ]
  },
  {
   "cell_type": "code",
   "execution_count": null,
   "metadata": {},
   "outputs": [],
   "source": [
    "# 課題8\n",
    "T = input().lower()\n",
    "C = input().lower()\n",
    "D = input().lower()\n",
    "E = input().lower()\n",
    "F = input().lower()\n",
    "\n",
    "counts = {\n",
    "    C: T.count(C),\n",
    "    D: T.count(D),\n",
    "    E: T.count(E),\n",
    "    F: T.count(F)\n",
    "}\n",
    "\n",
    "most_frequent = max(counts, key=counts.get)\n",
    "print(most_frequent)"
   ]
  },
  {
   "cell_type": "markdown",
   "metadata": {},
   "source": [
    "【課題9】あなたは新規サービスを立ち上げ、ユーザーアカウント登録機能を作成している。Inputで入力されたユーザー名Aのうち、1以下の条件をすべて満たす文字列については「許可」と表示し、そうでない場合は「不可」と表示せよ。\n",
    "\n",
    "1. 文字数は6文字以上\n",
    "2. 英数字のみ\n",
    "3. 全ての文字が同一でない"
   ]
  },
  {
   "cell_type": "code",
   "execution_count": 18,
   "metadata": {},
   "outputs": [
    {
     "name": "stdout",
     "output_type": "stream",
     "text": [
      "不可\n"
     ]
    }
   ],
   "source": [
    "# 課題9\n",
    "A = input()\n",
    "if len(A) >= 6 and A.encode('utf-8').isalnum() and len(set(A)) > 1:\n",
    "    print(\"許可\")\n",
    "else:\n",
    "    print(\"不可\")"
   ]
  },
  {
   "cell_type": "markdown",
   "metadata": {},
   "source": [
    "【課題10】あなたはチャットの検閲機能の作成を行う。今回の仮想世界ではカニについて述べることを禁じられている。入力された文章のうち、検閲ワードである「かに」・「カニ」を「●●」に置き換えて出力せよ。"
   ]
  },
  {
   "cell_type": "code",
   "execution_count": null,
   "metadata": {},
   "outputs": [],
   "source": [
    "# 課題10\n",
    "text = input()\n",
    "text = text.replace(\"かに\", \"●●\").replace(\"カニ\", \"●●\")\n",
    "print(text)"
   ]
  }
 ],
 "metadata": {
  "kernelspec": {
   "display_name": "Python 3",
   "language": "python",
   "name": "python3"
  },
  "language_info": {
   "codemirror_mode": {
    "name": "ipython",
    "version": 3
   },
   "file_extension": ".py",
   "mimetype": "text/x-python",
   "name": "python",
   "nbconvert_exporter": "python",
   "pygments_lexer": "ipython3",
   "version": "3.12.3"
  }
 },
 "nbformat": 4,
 "nbformat_minor": 2
}
