{
 "cells": [
  {
   "cell_type": "markdown",
   "metadata": {},
   "source": [
    "# **Lesson 4: 文字列操作(自由課題)**\n",
    "\n",
    "## 概要\n",
    "- Pythonでの文字列操作の方法について学びます。\n",
    "- 今回の課題は任意課題のため、やらなくても構いません。\n",
    "\n",
    "---\n"
   ]
  },
  {
   "cell_type": "markdown",
   "metadata": {},
   "source": [
    "\n",
    "### 文字列と数値の違い\n",
    "- 以前の演習の中で、「\"\"」で囲っているものは文字列、囲っていないものは数値として扱われるという話がありました。\n",
    "- 以下の2つの例を動かして、文字列と数値の挙動の違いを確認してください。\n"
   ]
  },
  {
   "cell_type": "code",
   "execution_count": null,
   "metadata": {},
   "outputs": [],
   "source": [
    "# 数値の場合は+で加算される\n",
    "a = 123\n",
    "b = 456\n",
    "print(a + b)"
   ]
  },
  {
   "cell_type": "code",
   "execution_count": null,
   "metadata": {},
   "outputs": [],
   "source": [
    "# 文字列の場合は+で連結される\n",
    "a = \"123\"\n",
    "b = \"456\"\n",
    "print(a + b)"
   ]
  },
  {
   "cell_type": "markdown",
   "metadata": {},
   "source": [
    "- ちなみに、文字列の途中の文字を取り出すこともできます。\n",
    "- 文字列の入っている変数hensuuに対して、`print(hensuu[番号])`のように書きます。\n",
    "- 文字列の先頭の文字は0から始まります。"
   ]
  },
  {
   "cell_type": "code",
   "execution_count": null,
   "metadata": {},
   "outputs": [],
   "source": [
    "a = \"あいうえお\"\n",
    "print(a[0])\n",
    "print(a[3])"
   ]
  },
  {
   "cell_type": "markdown",
   "metadata": {},
   "source": [
    "### 便利な関数\n",
    "- これまでにprint・input・int命令が登場しましたが、プログラミングでは他にも無数に命令が登場します。\n",
    "- max命令 … 最大値を求める\n",
    "- min命令 … 最小値を求める\n",
    "- abs命令 … 絶対値を求める\n",
    "- len命令 … 文字列の文字数を求める"
   ]
  },
  {
   "cell_type": "code",
   "execution_count": null,
   "metadata": {},
   "outputs": [],
   "source": [
    "print(max(1, 2, 3, 4, 5, 6, 7, 8, 9, 10))\n",
    "print(min(1, 2, 3, 4, 5, 6, 7, 8, 9, 10))\n",
    "print(abs(-20))\n",
    "print(len(\"python\"))"
   ]
  },
  {
   "cell_type": "markdown",
   "metadata": {},
   "source": [
    "- 以下の課題ではインターネット検索を利用しながら解き進めてください。\n",
    "- また、入力例と出力例は判定ソフトの例を見てイメージをつかんでください。"
   ]
  },
  {
   "cell_type": "markdown",
   "metadata": {},
   "source": [
    "----"
   ]
  },
  {
   "cell_type": "markdown",
   "metadata": {},
   "source": [
    "## 演習問題"
   ]
  },
  {
   "cell_type": "markdown",
   "metadata": {},
   "source": [
    "【課題1】Inputで文字列が渡される。その文字列の文字数を出力せよ。"
   ]
  },
  {
   "cell_type": "code",
   "execution_count": null,
   "metadata": {},
   "outputs": [],
   "source": [
    "# 課題1\n",
    "text = input()\n"
   ]
  },
  {
   "cell_type": "markdown",
   "metadata": {},
   "source": [
    "【課題2】2つのInputで文字列Tと数値Nが渡される。文字列TのN番目の文字を出力せよ。ただし、番号は先頭が0とし、指定された番号が文字列を超える場合は「エラー」と出力せよ。"
   ]
  },
  {
   "cell_type": "code",
   "execution_count": null,
   "metadata": {},
   "outputs": [],
   "source": [
    "# 課題2\n",
    "T = input()\n",
    "N = int(input())\n"
   ]
  },
  {
   "cell_type": "markdown",
   "metadata": {},
   "source": [
    "【課題3】Inputで文字列が渡される。その文字列を逆順にして出力せよ。"
   ]
  },
  {
   "cell_type": "code",
   "execution_count": null,
   "metadata": {},
   "outputs": [],
   "source": [
    "# 課題3\n",
    "text = input()\n"
   ]
  },
  {
   "cell_type": "markdown",
   "metadata": {},
   "source": [
    "【課題4】Inputで文字列が渡される。その文字列の先頭の文字と最後の文字をつなげて出力せよ。"
   ]
  },
  {
   "cell_type": "code",
   "execution_count": null,
   "metadata": {},
   "outputs": [],
   "source": [
    "# 課題4\n",
    "text = input()\n"
   ]
  },
  {
   "cell_type": "markdown",
   "metadata": {},
   "source": [
    "【課題5】2つのInputで文字列Tと数値Nが渡される。文字列Tを「数値N」の回数だけ繰り返した文章を出力せよ。"
   ]
  },
  {
   "cell_type": "code",
   "execution_count": null,
   "metadata": {},
   "outputs": [],
   "source": [
    "# 課題5\n",
    "T = input()\n",
    "N = int(input())\n"
   ]
  },
  {
   "cell_type": "markdown",
   "metadata": {},
   "source": [
    "【課題6】2つのInputで文字列A・Bが渡される。文字列Aの中に文字列Bが含まれるときに「ある」、含まれなければ「ない」を出力せよ。\n",
    "\n",
    "- (例1) すいどうばし　いどう　⇒　ある\n",
    "- (例2) きたかんとう　かだん　⇒　ない"
   ]
  },
  {
   "cell_type": "code",
   "execution_count": null,
   "metadata": {},
   "outputs": [],
   "source": [
    "# 課題6\n",
    "A = input()\n",
    "B = input()\n"
   ]
  },
  {
   "cell_type": "markdown",
   "metadata": {},
   "source": [
    "【課題7】2つのInputで日本語の文字列Tと、文字Cが渡される。文字列Tの中に文字Cが何回含まれるかを出力せよ。"
   ]
  },
  {
   "cell_type": "code",
   "execution_count": null,
   "metadata": {},
   "outputs": [],
   "source": [
    "# 課題7\n",
    "T = input()\n",
    "C = input()\n"
   ]
  },
  {
   "cell_type": "markdown",
   "metadata": {},
   "source": [
    "【課題8】5つのInputで、日本語の文字列Tと、文字C・D・E・Fが渡される。文字列Tの中に含まれる文字列C・D・E・Fのうち、最も登場回数の多い文字列を出力せよ。なお、この問題では各文字の登場回数はすべて異なる。"
   ]
  },
  {
   "cell_type": "code",
   "execution_count": null,
   "metadata": {},
   "outputs": [],
   "source": [
    "# 課題8\n",
    "T = input()\n",
    "C = input()\n",
    "D = input()\n",
    "E = input()\n",
    "F = input()\n",
    "\n"
   ]
  },
  {
   "cell_type": "markdown",
   "metadata": {},
   "source": [
    "【課題9】あなたは新規サービスを立ち上げ、ユーザーアカウント登録機能を作成している。Inputで入力されたユーザー名Aのうち、1以下の条件をすべて満たす文字列については「許可」と表示し、そうでない場合は「不可」と表示せよ。\n",
    "\n",
    "1. 文字数は6文字以上\n",
    "2. 全ての文字が同一でない\n",
    "3. 英数字のみ(高難度)"
   ]
  },
  {
   "cell_type": "code",
   "execution_count": null,
   "metadata": {},
   "outputs": [],
   "source": [
    "# 課題9\n",
    "A = input()\n"
   ]
  },
  {
   "cell_type": "markdown",
   "metadata": {},
   "source": [
    "【課題10】あなたはチャットの検閲機能の作成を行う。今回の仮想世界ではカニについて述べることを禁じられている。入力された文章のうち、検閲ワードである「かに」・「カニ」を「●●」に置き換えて出力せよ。"
   ]
  },
  {
   "cell_type": "code",
   "execution_count": null,
   "metadata": {},
   "outputs": [],
   "source": [
    "# 課題10\n",
    "text = input()\n"
   ]
  }
 ],
 "metadata": {
  "kernelspec": {
   "display_name": "Python 3",
   "language": "python",
   "name": "python3"
  },
  "language_info": {
   "codemirror_mode": {
    "name": "ipython",
    "version": 3
   },
   "file_extension": ".py",
   "mimetype": "text/x-python",
   "name": "python",
   "nbconvert_exporter": "python",
   "pygments_lexer": "ipython3",
   "version": "3.12.3"
  }
 },
 "nbformat": 4,
 "nbformat_minor": 2
}
