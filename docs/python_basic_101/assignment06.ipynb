{
 "cells": [
  {
   "cell_type": "markdown",
   "metadata": {},
   "source": [
    "# **Lesson 6: リストの利用とデータ操作**\n",
    "\n",
    "### **目標**\n",
    "\n",
    "- リストを使って複数のデータを管理する方法を理解する\n",
    "- リストとループを組み合わせてデータを扱う方法を理解する\n",
    "- 効率的なアルゴリズムについて学ぶ\n",
    "\n",
    "### **概要**\n",
    "\n",
    "リストは、複数のデータを1つの変数にまとめて管理するための方法です。リストを使うと、データを順番に扱うことができます。ここでは、リストの基本的な使い方を学びます。\n",
    "\n",
    "---\n"
   ]
  },
  {
   "cell_type": "markdown",
   "metadata": {},
   "source": [
    "\n",
    "### **① リストの作成**\n",
    "- リストでは、要素をいくつも登録して管理することができます。\n",
    "- リストを定義する場合は、`リスト名 = []` という形で記述います。\n",
    "  - リスト名は変数と同様に、自由に名前を設定できます。"
   ]
  },
  {
   "cell_type": "code",
   "execution_count": null,
   "metadata": {},
   "outputs": [],
   "source": [
    "array = ['Hello', 'こんにちは', '你好']\n",
    "print(array)\n"
   ]
  },
  {
   "cell_type": "markdown",
   "metadata": {},
   "source": [
    "\n",
    "### **② リストの値の利用・変更**\n",
    "\n",
    "- リストの要素には、**インデックス**（0から始まる番号）を使ってアクセスします。\n",
    "  - 先頭から、0番目、1番目、2番目…と数えるのがルールです。\n",
    "- `リスト名[番号]` という形で記述します。"
   ]
  },
  {
   "cell_type": "code",
   "execution_count": null,
   "metadata": {},
   "outputs": [],
   "source": [
    "aisatsu = ['Hello', 'こんにちは', '你好', 'Guten tag']\n",
    "print(aisatsu[0])  #←\"Hello\"が表示される\n",
    "print(aisatsu[3])  #←\"Guten tag\"が表示される"
   ]
  },
  {
   "cell_type": "markdown",
   "metadata": {},
   "source": [
    "- リスト内のすでにある要素を上書きすることもできます。\n",
    "- `リスト名[番号] = 上書きする値`という形で記述します。"
   ]
  },
  {
   "cell_type": "code",
   "execution_count": null,
   "metadata": {},
   "outputs": [],
   "source": [
    "numbers = [0, 1, 200, 3, 4]\n",
    "print(numbers)\n",
    "\n",
    "numbers[2] = 2         # ここで上書き\n",
    "print(numbers)         # 更新後の結果は？"
   ]
  },
  {
   "cell_type": "markdown",
   "metadata": {},
   "source": [
    "### **③ その他の情報**"
   ]
  },
  {
   "cell_type": "markdown",
   "metadata": {},
   "source": [
    "- リストの要素数は`len()`関数を使って取得することができます。\n",
    "- for文を使ってリストを操作することが非常に多いです。"
   ]
  },
  {
   "cell_type": "code",
   "execution_count": null,
   "metadata": {},
   "outputs": [],
   "source": [
    "array = [1, 2, 3, 4, 5]\n",
    "print( len(array), \"個\" )      # len()関数で要素数を取得\n",
    "\n",
    "for i in range(len(array)):    # for文で要素を取り出す\n",
    "    array[i] = array[i] * 100  # それぞれ100倍する\n",
    "\n",
    "print(array)                   # この結果どうなる？"
   ]
  },
  {
   "cell_type": "markdown",
   "metadata": {},
   "source": [
    "- リストを宣言したあと、`リスト名.append(データ)`で、データを後から追加することができます。\n",
    "- append関数は結果を返さない関数なので、代入は使いません。"
   ]
  },
  {
   "cell_type": "code",
   "execution_count": null,
   "metadata": {},
   "outputs": [],
   "source": [
    "\n",
    "array = ['Hello', 'こんにちは', '你好']\n",
    "array.append(\"Guten tag\")\n",
    "print(array) \n"
   ]
  },
  {
   "cell_type": "markdown",
   "metadata": {},
   "source": [
    "- リストの範囲外の番号を指定するとエラーが出ます。よくありがちです。\n",
    "  - エラー文 : `list index out of range` (リストのインデックスが範囲外です)\n",
    "  - リストの番号は`0`から始まるのであらためて注意してください。"
   ]
  },
  {
   "cell_type": "code",
   "execution_count": null,
   "metadata": {},
   "outputs": [],
   "source": [
    "aisatsu = ['Hello', 'こんにちは', '你好', 'Guten tag']\n",
    "print(aisatsu[5])  #←エラーが発生する"
   ]
  },
  {
   "cell_type": "markdown",
   "metadata": {},
   "source": [
    "---"
   ]
  },
  {
   "cell_type": "markdown",
   "metadata": {},
   "source": [
    "- 以下では、文章中に「配列」と出てくる場合は「リスト」と読み替えてください。\n",
    "- 以下では「◯番目」とある場合は0から数えますが、それ以外、たとえば「◯個目」とある場合は1から数えることとします。\n",
    "- とくに問題文の指示がなければ、どのようなプログラムでも構いません。"
   ]
  },
  {
   "cell_type": "markdown",
   "metadata": {},
   "source": [
    "----"
   ]
  },
  {
   "cell_type": "markdown",
   "metadata": {},
   "source": [
    "## 演習問題"
   ]
  },
  {
   "cell_type": "markdown",
   "metadata": {},
   "source": [
    "### リストの基本操作\n",
    "\n",
    "【課題1】`numbers`というリストを作成し、数値`1`,`2`,`3`,`4`,`5`をその要素とし、リスト`numbers`の全体を表示してください。\n",
    "\n",
    "- ヒント : リスト全体を表示するのは`print(リスト名)`でOKです"
   ]
  },
  {
   "cell_type": "code",
   "execution_count": 23,
   "metadata": {},
   "outputs": [
    {
     "name": "stdout",
     "output_type": "stream",
     "text": [
      "[1, 2, 3]\n"
     ]
    }
   ],
   "source": [
    "# 課題1\n",
    "numbers = [1, 2, 3]  #appendではなく、ここに要素を直接追加する\n",
    "\n",
    "print(numbers)\n"
   ]
  },
  {
   "cell_type": "markdown",
   "metadata": {},
   "source": [
    "【課題2】`numbers`というリストの`3番目`の要素のみを表示してください。\n",
    "\n",
    "- 注意 : 提出時には「`# 本番用`」と書かれた行の先頭の「`#`」を外してください。以降の問題も同様にしてください。\n",
    "    - これはスペース区切りの入力をリストに変換するテクニックです。(例) 単なる入力「1 2 3 4 5」が `[1, 2, 3, 4, 5]` というリストになります。"
   ]
  },
  {
   "cell_type": "code",
   "execution_count": 24,
   "metadata": {},
   "outputs": [
    {
     "name": "stdout",
     "output_type": "stream",
     "text": [
      "7\n"
     ]
    }
   ],
   "source": [
    "# 課題2 (input指定あり)\n",
    "numbers = [1, 3, 5, 7, 9, 11] # デバッグ用\n",
    "# numbers = list(map(int, input().split()))  # 本番用\n",
    "\n",
    "print(numbers[3])\n"
   ]
  },
  {
   "cell_type": "markdown",
   "metadata": {},
   "source": [
    "【課題3】`numbers`というリストの、`1番目`の要素の符号を反転させたうえで、リスト`numbers`の全体を表示してください。"
   ]
  },
  {
   "cell_type": "code",
   "execution_count": 25,
   "metadata": {},
   "outputs": [
    {
     "name": "stdout",
     "output_type": "stream",
     "text": [
      "[0, 2, 4, 6, 8, 10]\n"
     ]
    }
   ],
   "source": [
    "# 課題3 (input指定あり)\n",
    "numbers = [0, -2, 4, 6, 8, 10] # デバッグ用\n",
    "# numbers = list(map(int, input().split()))  # 本番用\n",
    "\n",
    "numbers[1] = -numbers[1]\n",
    "print(numbers)\n"
   ]
  },
  {
   "cell_type": "markdown",
   "metadata": {},
   "source": [
    "【課題4】`area`というリストの要素数を、「`〇個`」という形で表示してください。\n",
    "\n",
    "- ヒント : リストの要素数は、`len()`関数で得られます。使用方法 : `len(リスト名)`\n",
    "- ヒント : 要素数は、7個あればそのまま`7個`です。"
   ]
  },
  {
   "cell_type": "code",
   "execution_count": 26,
   "metadata": {},
   "outputs": [
    {
     "name": "stdout",
     "output_type": "stream",
     "text": [
      "7 個\n"
     ]
    }
   ],
   "source": [
    "# 課題4 (input指定あり)\n",
    "area = [\"東京\",\"神奈川\",\"千葉\",\"埼玉\",\"茨城\",\"栃木\",\"群馬\"] # デバッグ用\n",
    "# area = list(map(str, input().split()))  # 本番用\n",
    "\n",
    "print(len(area),\"個\")\n"
   ]
  },
  {
   "cell_type": "markdown",
   "metadata": {},
   "source": [
    "【課題5】`odd`というリストの最後の要素を表示してください。\n",
    "\n",
    "- ヒント : 要素数を求めるには`len()`関数を使いますが、その結果をそのままインデックスに使うと範囲外になります。\n",
    "- ヒント : 要素数は、7個あればそのまま`7個`です。その場合、最後の要素は順番としては「`6番目`」になります。(先頭が`0番目`)"
   ]
  },
  {
   "cell_type": "code",
   "execution_count": 27,
   "metadata": {},
   "outputs": [
    {
     "name": "stdout",
     "output_type": "stream",
     "text": [
      "10\n"
     ]
    }
   ],
   "source": [
    "# 課題5 (input指定あり)\n",
    "odd = [1, 3, 5, 7, 9, 11] # デバッグ用\n",
    "# odd = list(map(int, input().split()))  # 本番用\n",
    "\n",
    "print(numbers[len(odd)-1])\n"
   ]
  },
  {
   "cell_type": "markdown",
   "metadata": {},
   "source": [
    "【課題6】エラーを直そう：次のコードを修正して、正しく料理名と料金を表示できるようにしてください。\n",
    "\n",
    "- ヒント : `range`関数の中には、`foods`の要素数を入れたいです。\n",
    "- ヒント : この問題で修正したあとのfor文の形は、この後の問題でもかなりよく出てきます。"
   ]
  },
  {
   "cell_type": "code",
   "execution_count": 28,
   "metadata": {},
   "outputs": [
    {
     "name": "stdout",
     "output_type": "stream",
     "text": [
      "寿司 は 1000 円です。\n",
      "天ぷら は 800 円です。\n",
      "ラーメン は 600 円です。\n"
     ]
    }
   ],
   "source": [
    "# 課題6\n",
    "foods = ['寿司', '天ぷら', 'ラーメン']\n",
    "prices = [1000, 800, 600]\n",
    "for i in range(len(foods)):\n",
    "    print(foods[i], 'は', prices[i], '円です。')"
   ]
  },
  {
   "cell_type": "markdown",
   "metadata": {},
   "source": [
    "### データの探索\n",
    "【課題7】2つのinputで単語`word`とリスト`dictionary`を受け取ります。リスト`dictionary`の中で「`wordは◯番目にあります`」と出力してください。ただし、`word`が`dictionary`の中にない場合、「`word`はありません」と出力してください。\n",
    "\n",
    "- ヒント : for文を途中で抜けるには、for文の中で「`break`」と書きます。\n",
    "- (出力例) 秋↩︎ 春 夏 秋 冬↩︎ ⇒ `秋 は 2 番目にあります`\n",
    "- (出力例) 11↩︎ 2 3 5 8 13 21 ⇒ `11はありません`"
   ]
  },
  {
   "cell_type": "code",
   "execution_count": 29,
   "metadata": {},
   "outputs": [
    {
     "name": "stdout",
     "output_type": "stream",
     "text": [
      "三 は 2 番目にあります\n"
     ]
    }
   ],
   "source": [
    "# 課題7 (input指定あり)\n",
    "word = \"三\"                                     # デバッグ用\n",
    "dictionary = [\"一\",\"二\",\"三\",\"四\",\"五\"]          # デバッグ用\n",
    "# word = input()                                # 本番用\n",
    "# dictionary = list(map(str, input().split()))  # 本番用\n",
    "\n",
    "index = -1                                      # 見つからなかった場合の初期値は-1とする\n",
    "\n",
    "# ----- ここに処理を追加する ----- #\n",
    "for i in range(len(dictionary)):\n",
    "    if dictionary[i] == word:                   \n",
    "        index = i\n",
    "        break\n",
    "# ------------------------------- #\n",
    "\n",
    "if index != -1:\n",
    "    print(word,\"は\",index,\"番目にあります\")\n",
    "else:\n",
    "    print(word,\"はありません\")"
   ]
  },
  {
   "cell_type": "markdown",
   "metadata": {},
   "source": [
    "【課題8】データの入れ替えについておさらいします。プログラムを読み、指示に従ってください。"
   ]
  },
  {
   "cell_type": "code",
   "execution_count": 31,
   "metadata": {},
   "outputs": [
    {
     "name": "stdout",
     "output_type": "stream",
     "text": [
      "交換前: [1, 12, 34, 54, 23]\n",
      "交換後: [12, 1, 34, 54, 23]\n"
     ]
    }
   ],
   "source": [
    "# 課題8\n",
    "array = [1, 12, 34 ,54, 23]\n",
    "print(\"交換前:\", array)\n",
    "\n",
    "temp = array[1]           # 交換用の変数tempを用意し、交換先[1]の値を退避\n",
    "array[1] = array[0]       # 交換元[0]を交換先[1]に代入\n",
    "array[0] = temp           # 退避しておいた値tempを交換元[0]に代入\n",
    "\n",
    "print(\"交換後:\", array)\n",
    "\n",
    "# 上の交換アルゴリズムを読んだら、下記の行の「#」を消すこと。\n",
    "# print(\"交換の仕組みを理解しました\")"
   ]
  },
  {
   "cell_type": "markdown",
   "metadata": {},
   "source": [
    "【課題9】この問題では手動で選択ソートを行います。以下のアルゴリズムに従い、交換が起こるたびに、リストを`print`してください。\n",
    "\n",
    "- 選択ソートとは、リストの先頭から順に最小値を探し続けるソートアルゴリズムです。\n",
    "  1. 最小値を探す : リストの中で、今注目している位置`i`より後のすべての値を調べて、最小値を見つけます。\n",
    "  2. 値を交換する : 見つけた最小値と、今注目している位置の値を入れ替えます。\n",
    "  3. 次の位置に進む : 現在注目している位置`i`を次に進め、1と2の手順を繰り返します。\n",
    "- 以下の資料を見ると理解が速いです。\n",
    "  - https://youtu.be/A1UuoXNoy2w (動画は昇順と降順が逆の方式なので、適宜「小さいのを見つけて左に詰めていく」のように読み替えてください。)\n",
    "  - https://www.w3schools.com/dsa/dsa_algo_selectionsort.php (「Selection Sort」のボタンを押して流れを確認してください。)"
   ]
  },
  {
   "cell_type": "code",
   "execution_count": 32,
   "metadata": {},
   "outputs": [
    {
     "name": "stdout",
     "output_type": "stream",
     "text": [
      "[12, 9, 20, 6, 5]\n",
      "[5, 9, 20, 6, 12]\n",
      "[5, 6, 20, 9, 12]\n",
      "[5, 6, 9, 20, 12]\n",
      "[5, 6, 9, 12, 20]\n"
     ]
    }
   ],
   "source": [
    "# 課題9\n",
    "print([12, 9, 20, 6, 5]) #スタート\n",
    "print([5, 9, 20, 6, 12]) #i=0 / 0番目の値と、最小値の5を入れ替えた\n",
    "print([5, 6, 20, 9, 12]) #i=1 / 1番目の値と、最小値の6を入れ替えた (以下にi=2, i=3のときのリストを書いてください)\n",
    "print([5, 6, 9, 20, 12]) \n",
    "print([5, 6, 9, 12, 20])"
   ]
  },
  {
   "cell_type": "markdown",
   "metadata": {},
   "source": [
    "【課題10】前問に引き続き、選択ソートでは次のルールに従ってデータの並び替えを行います。そのルールに従って、選択ソートのアルゴリズムを完成させてください。\n",
    "\n",
    "- 選択ソートとは、リストの先頭から順に最小値を探し続けるソートアルゴリズムです。\n",
    "  1. 最小値を探す : リスト`arr`の中で、現在注目している位置`i`より後のすべての値を調べて、最小値`arr[min_index]`を見つけます。※最小値の位置を`min_index`とします。\n",
    "  2. 値を入れ替える : 見つけた最小値`arr[min_index]`と、今注目している位置の値`arr[i]`を入れ替えます。\n",
    "  3. 次の場所に進む : 現在注目している位置`i`を次に進め、1と2の手順を繰り返します。\n",
    "\n",
    "- 要望 : 交換が起こらなかった場合でも配列を出力してください。"
   ]
  },
  {
   "cell_type": "code",
   "execution_count": 33,
   "metadata": {},
   "outputs": [
    {
     "name": "stdout",
     "output_type": "stream",
     "text": [
      "[12, 9, 20, 6, 5]\n",
      "[5, 9, 20, 6, 12]\n",
      "[5, 6, 20, 9, 12]\n",
      "[5, 6, 9, 20, 12]\n",
      "[5, 6, 9, 12, 20]\n"
     ]
    }
   ],
   "source": [
    "# 課題10 (input指定あり)\n",
    "arr = [12, 9, 20, 6, 5]                     # デバッグ用\n",
    "# arr = list(map(int, input().split()))     # 本番用\n",
    "\n",
    "print(arr)\n",
    "n = len(arr)                                # nはリストの要素数\n",
    "\n",
    "for i in range(n-1):                        # 最後から1つめの要素からソートするときは、最後の要素と交換されるので、n-1回繰り返す\n",
    "    min_index = i                           # 最小値の位置を保持する(暫定的にi番目を最小値とする)\n",
    "\n",
    "    # ------ ここから処理を追加 ------- #\n",
    "    for j in range(i+1, n):                 # どこからどこまでの範囲を探索する？ そして、その範囲の最小値をどうやって見つける？\n",
    "        if arr[min_index] > arr[j]:\n",
    "            min_index = j\n",
    "    \n",
    "    # - arr[i]とarr[min_index]の交換 - #\n",
    "    temp = arr[min_index]\n",
    "    arr[min_index] = arr[i]\n",
    "    arr[i] = temp\n",
    "    # ----------- ここまで ---------- #\n",
    "\n",
    "    print(arr)\n"
   ]
  },
  {
   "cell_type": "markdown",
   "metadata": {},
   "source": [
    "### おまけ問題\n",
    "【課題11】`chuo_line`というリストの最後に`\"新宿\"`を追加してください\n",
    "\n",
    "- ヒント : 要素の追加の際には`append()`関数を実行します。"
   ]
  },
  {
   "cell_type": "code",
   "execution_count": 34,
   "metadata": {},
   "outputs": [
    {
     "name": "stdout",
     "output_type": "stream",
     "text": [
      "['東京', '神田', '御茶ノ水', '四ツ谷', '新宿']\n"
     ]
    }
   ],
   "source": [
    "# 課題11\n",
    "chuo_line = [\"東京\", \"神田\", \"御茶ノ水\",\"四ツ谷\"] # デバッグ用\n",
    "# chuo_line = list(map(int, input().split()))  # 本番用\n",
    "\n",
    "chuo_line.append(\"新宿\")\n",
    "print(chuo_line)"
   ]
  },
  {
   "cell_type": "markdown",
   "metadata": {},
   "source": [
    "【課題12】2つのinputで科目のリスト`subjects`と、その得点のリスト`scores`を受け取ります。最高点の科目とその点数、最低点の科目とその点数をそれぞれ表示してください。(任意課題)\n",
    "\n",
    "- (入出力例) 「国語, 数学, 物理, 化学, 英語」↵ 「85, 90, 78, 88, 92」↵\n",
    "  \n",
    "        `最高点: 92 科目名: 英語`\n",
    "        `最低点: 78 科目名: 物理`"
   ]
  },
  {
   "cell_type": "code",
   "execution_count": 35,
   "metadata": {},
   "outputs": [
    {
     "name": "stdout",
     "output_type": "stream",
     "text": [
      "最高点: 92 科目名: 英語\n",
      "最低点: 78 科目名: 物理\n"
     ]
    }
   ],
   "source": [
    "# 課題12\n",
    "subjects = [\"国語\", \"数学\", \"物理\", \"化学\", \"英語\"] # デバッグ用\n",
    "scores = [85, 90, 78, 88, 92] # デバッグ用\n",
    "# subjects = list(map(str, input().split())) # 本番用\n",
    "# scores = list(map(int, input().split())) # 本番用\n",
    "\n",
    "highest = max(scores)\n",
    "lowest = min(scores)\n",
    "\n",
    "print(\"最高点:\", highest, \"科目名:\", subjects[scores.index(highest)])\n",
    "print(\"最低点:\", lowest, \"科目名:\", subjects[scores.index(lowest)])"
   ]
  },
  {
   "cell_type": "markdown",
   "metadata": {},
   "source": [
    "【課題13】2つのinputで数値`target`と、昇順のリスト`data`を受け取ります。指定された数値`target`がリスト`data`の何番目に載っているかを表示してください。リスト`data`の中には`target`の数値がかならず存在するものとします。 なお、今回の実装では「二分探索」を使用しますので、以下のヒントを参考にしてください。\n",
    "\n",
    "- 二分探索とは、範囲の真ん中より大きいか小さいか、をひたすら繰り返す探索方法です。大きな値に強いです。\n",
    "  - (例) 1~100の数値 ⇢ 50より小さい(1~49) ⇢ 25より大きい(26~49) ⇢ 37より小さい(26~36) …\n",
    "\n",
    "- while以下の流れは以下のとおりです。\n",
    "    \n",
    "        # while left <= right: \n",
    "            # 「中央の位置」をleftとrightから求める(整数で)\n",
    "            # 「中央の位置」のdataの値が、答えと等しい場合\n",
    "                # ↪︎「中央の位置」をindexに入れて保存する\n",
    "                # ↪︎ break と書いて終了する\n",
    "            # 「中央の位置」のdataの値が、答えより小さい場合\n",
    "                # ↪︎範囲の最小leftを、「中央の位置+1」に更新\n",
    "            # 「中央の位置」のdataの値が、答えより大きい場合\n",
    "                # ↪︎範囲の最大rightを、「中央の位置-1」更新\n",
    "\n",
    "\n",
    "- (出力例) 345↵ [2, 40, 301, 345, 346, 400, 457, 680]↵ ⇢ `345の位置は3番目`"
   ]
  },
  {
   "cell_type": "code",
   "execution_count": 36,
   "metadata": {},
   "outputs": [
    {
     "name": "stdout",
     "output_type": "stream",
     "text": [
      "345 の位置は 3 番目\n"
     ]
    }
   ],
   "source": [
    "# 課題13 (input指定あり)\n",
    "target = 345                                 # デバッグ用 \n",
    "data = [2, 40, 301, 345, 346, 400, 457, 680] # デバッグ用\n",
    "# target = int(input())                      # 本番用\n",
    "# data = list(map(int, input().split()))     # 本番用\n",
    "\n",
    "index = -1               # 探索する値の位置\n",
    "left = 0                 # 現在判明している最小値の\"位置\" (最小値そのものではない)\n",
    "right = len(data) - 1    # 現在判明している最大値の\"位置\" (最大値そのものではない)\n",
    "\n",
    "# ----- ここに処理を追加する ----- #\n",
    "while left <= right:                         \n",
    "    center = (left + right) // 2   \n",
    "    if data[center] == target:     \n",
    "        index = center             \n",
    "        break                      \n",
    "    elif data[center] < target:    \n",
    "        left = center + 1          \n",
    "    else:                          \n",
    "        right = center - 1    \n",
    "# ------------------------------- #     \n",
    "        \n",
    "print(target, \"の位置は\", index, \"番目\")"
   ]
  },
  {
   "cell_type": "markdown",
   "metadata": {},
   "source": [
    "【課題14】バブルソートでは次のルールに従ってデータの並び替えを行います。そのルールに従って、バブルソートのアルゴリズムを完成させてください。\n",
    "\n",
    "- バブルソートとは、リストの隣り合う要素を比較しながら、値を交換することで大きい値を右端に押し出していくソートアルゴリズムです。\n",
    "  1. 隣り合う要素を比較する : リスト`arr`の比較位置`i`から順に、隣り合う要素`arr[j]`と`arr[j+1]`を比較します。\n",
    "  2. 値を入れ替える : `arr[j]`が`arr[j+1]`より大きい場合、これらの値を入れ替えます。この操作により、大きい値がリストの右側に移動します。\n",
    "  3. 次の場所に進む : 比較位置`i`を一つ右に進め、リストの最後まで1と2を繰り返します。リストの最後に達した時点で、最も大きな値がリストの右端に確定します。\n",
    "  4. 繰り返す : 確定した値を除いて、残りの部分で1~3を繰り返します。これを全ての値が確定するまで実行します。\n",
    "- 以下の資料を見ると理解が速いです。\n",
    "  - https://www.youtube.com/watch?v=IHFBb0wYBR0 (昇順と降順が逆の方式なので、適宜「左の棒の方が長かったら、左右の棒を入れ替えます」のように読み替えてください。)\n",
    "  - https://www.w3schools.com/dsa/dsa_algo_bubblesort.php (「Bubble Sort」のボタンを押して流れを確認してください。)"
   ]
  },
  {
   "cell_type": "code",
   "execution_count": 37,
   "metadata": {},
   "outputs": [
    {
     "name": "stdout",
     "output_type": "stream",
     "text": [
      "[12, 9, 20, 6, 5]\n",
      "[9, 12, 6, 5, 20]\n",
      "[9, 6, 5, 12, 20]\n",
      "[6, 5, 9, 12, 20]\n",
      "[5, 6, 9, 12, 20]\n",
      "[5, 6, 9, 12, 20]\n"
     ]
    }
   ],
   "source": [
    "# 課題14 (input指定あり)\n",
    "arr = [12, 9, 20, 6, 5]                     # デバッグ用\n",
    "# arr = list(map(int, input().split()))     # 本番用\n",
    "\n",
    "print(arr)\n",
    "n = len(arr)                               # nはリストの要素数\n",
    "\n",
    "for i in range(n):\n",
    "    # ------ ここから処理を追加 ------- #\n",
    "    for j in range(n - i - 1):                 # どこからどこまでの範囲を探索する？\n",
    "        if arr[j] > arr[j + 1]:                # どことどこを比較する？\n",
    "            #- arr[j]とarr[j+1]の交換 -#\n",
    "            tmp = arr[j]\n",
    "            arr[j] = arr[j+ 1]\n",
    "            arr[j+1] = tmp\n",
    "    # ----------- ここまで ---------- #\n",
    "    print(arr)"
   ]
  },
  {
   "cell_type": "markdown",
   "metadata": {},
   "source": [
    "【課題15】Aさんは1次元の世界で配達の仕事をしています。\n",
    "2つのinputで、本日巡るべき家`home`とその座標`pos`がそれぞれ入力されるので、座標0から最短経路で配達する場合の家の順序を出力してください。\n",
    "- (例) 「あ い う」↵ 「3 5 4」↵ → `['あ', 'う', 'い']`\n",
    "- (例) 「a b c d e f g」↵ 「3 19 12 2 4 6 5」 ↵ →  `['d', 'a', 'e', 'g', 'f', 'c', 'b']`\n",
    "- 仕様 : 住所の被りはありません。"
   ]
  },
  {
   "cell_type": "code",
   "execution_count": 39,
   "metadata": {},
   "outputs": [
    {
     "name": "stdout",
     "output_type": "stream",
     "text": [
      "['d', 'a', 'e', 'g', 'f', 'c', 'b']\n"
     ]
    }
   ],
   "source": [
    "# 課題15 (input指定あり)\n",
    "home = ['a', 'b', 'c', 'd', 'e', 'f', 'g']    # デバッグ用\n",
    "pos = [3, 19, 12, 2, 4, 6, 5]                 # デバッグ用\n",
    "# home = list(map(str, input().split()))      # 本番用\n",
    "# pos = list(map(int, input().split()))         # 本番用\n",
    "\n",
    "n = len(pos)                              \n",
    "for i in range(n):\n",
    "    for j in range(n - i - 1):                \n",
    "        if pos[j] > pos[j + 1]:               \n",
    "            pos[j], pos[j+1] = pos[j+1], pos[j]\n",
    "            home[j], home[j+1] = home[j+1], home[j]\n",
    "\n",
    "print(home)\n",
    "\n"
   ]
  }
 ],
 "metadata": {
  "kernelspec": {
   "display_name": ".venv",
   "language": "python",
   "name": "python3"
  },
  "language_info": {
   "codemirror_mode": {
    "name": "ipython",
    "version": 3
   },
   "file_extension": ".py",
   "mimetype": "text/x-python",
   "name": "python",
   "nbconvert_exporter": "python",
   "pygments_lexer": "ipython3",
   "version": "3.10.11"
  }
 },
 "nbformat": 4,
 "nbformat_minor": 2
}
