{
 "cells": [
  {
   "cell_type": "markdown",
   "metadata": {},
   "source": [
    "# **Lesson 6: リストの利用とデータ操作**\n",
    "\n",
    "### **目標**\n",
    "\n",
    "- リストを使って複数のデータを管理する方法を理解する\n",
    "- リストとループを組み合わせてデータを扱う方法を理解する\n",
    "- 効率的なアルゴリズムについて学ぶ\n",
    "\n",
    "### **概要**\n",
    "\n",
    "リストは、複数のデータを1つの変数にまとめて管理するための方法です。リストを使うと、データを順番に扱うことができます。ここでは、リストの基本的な使い方を学びます。\n",
    "\n",
    "---\n"
   ]
  },
  {
   "cell_type": "markdown",
   "metadata": {},
   "source": [
    "\n",
    "### **① リストの作成**\n",
    "- リストでは、要素をいくつも登録して管理することができます。\n",
    "- リストを定義する場合は、`リスト名 = []` という形で記述します。\n",
    "  - リスト名は変数と同様に、自由に名前を設定できます。"
   ]
  },
  {
   "cell_type": "code",
   "execution_count": null,
   "metadata": {},
   "outputs": [],
   "source": [
    "array = ['Hello', 'こんにちは', '你好']  # リストを作成\n",
    "print(array)                             # printにリストそのものを指定できる"
   ]
  },
  {
   "cell_type": "markdown",
   "metadata": {},
   "source": [
    "- リストの要素数は`len()`関数を使って取得することができます。\n",
    "- リストへ後から要素を追加するには、`リスト名.append(データ)`でできます。(見慣れない形ですが…。)\n"
   ]
  },
  {
   "cell_type": "code",
   "execution_count": null,
   "metadata": {},
   "outputs": [],
   "source": [
    "array = ['Hello', 'こんにちは', '你好']  # リストを作成\n",
    "\n",
    "print(array)                            # リスト全体を表示\n",
    "print( len(array), \"個\" )               # 要素数を表示\n",
    "\n",
    "array.append(\"Guten tag\")               # 要素を追加\n",
    "\n",
    "print(array)                            # 追加後のリスト全体を表示\n",
    "print( len(array), \"個\" )               # 追加後の要素数を表示"
   ]
  },
  {
   "cell_type": "markdown",
   "metadata": {},
   "source": [
    "\n",
    "### **② リストの値の利用・変更**\n",
    "\n",
    "- リストの各要素にアクセスするには、**インデックス**（0から始まる番号）を使い、`リスト名[番号]` という形で記述します。\n",
    "  - 先頭から、0番目、1番目、2番目…と数えるのがルールです。\n",
    "  - for文を使ってアクセスすることが多いです！"
   ]
  },
  {
   "cell_type": "code",
   "execution_count": null,
   "metadata": {},
   "outputs": [],
   "source": [
    "words = ['Hello', 'こんにちは', '你好', 'Guten tag']\n",
    "\n",
    "print(words[0])  #←\"Hello\"が表示される\n",
    "print(words[3])  #←\"Guten tag\"が表示される\n",
    "    "
   ]
  },
  {
   "cell_type": "code",
   "execution_count": null,
   "metadata": {},
   "outputs": [],
   "source": [
    "# for文を使うと一気にアクセスできて便利\n",
    "words = ['Hello', 'こんにちは', '你好', 'Guten tag']\n",
    "\n",
    "for i in range(len(words)):\n",
    "    print(i,\"番目:\", words[i])\n",
    "\n"
   ]
  },
  {
   "cell_type": "markdown",
   "metadata": {},
   "source": [
    "- リスト内の既存の要素を上書きするには、`リスト名[番号] = 上書きする値`という形で記述します。"
   ]
  },
  {
   "cell_type": "code",
   "execution_count": null,
   "metadata": {},
   "outputs": [],
   "source": [
    "numbers = [0, 1, 200, 3, 4]\n",
    "print(numbers)         # もとのリストをチェック\n",
    "\n",
    "numbers[2] = 2         # ここで上書き\n",
    "print(numbers)         # 更新後のリストの中身は？"
   ]
  },
  {
   "cell_type": "markdown",
   "metadata": {},
   "source": [
    "- なお、リストの範囲外の番号を指定するとエラーが出ます。よくありがちです。\n",
    "  - エラー文 : `list index out of range` (リストのインデックスが範囲外です)\n",
    "  - リストの番号は`0`から始まるのであらためて注意してください。"
   ]
  },
  {
   "cell_type": "code",
   "execution_count": null,
   "metadata": {},
   "outputs": [],
   "source": [
    "aisatsu = ['Hello', 'こんにちは', '你好', 'Guten tag']\n",
    "print(aisatsu[5])  #←エラーが発生する"
   ]
  },
  {
   "cell_type": "markdown",
   "metadata": {},
   "source": [
    "### **③ 配列のinput(おまけ)**"
   ]
  },
  {
   "cell_type": "markdown",
   "metadata": {},
   "source": [
    "- これまでもよく用いた`input()`命令では、配列をそのまま入力することができません。\n",
    "- そのため、「1 2 3」のような**スペース区切り**の文章を入力に用い、それをリストに変換する形をとります。 \n",
    "- 以下のコードを実行し、試しに「1 2 3 4 5」と入力してください。 `[1, 2, 3, 4, 5]` というリストになります。\n",
    "  - 動作を細かく理解する必要はありません。「何をする行なのか」だけなんとなく把握できれば十分です。"
   ]
  },
  {
   "cell_type": "code",
   "execution_count": null,
   "metadata": {},
   "outputs": [],
   "source": [
    "test = list(map(int, input(\"スペース区切りで入力してください\").split()))\n",
    "print(test)\n",
    "\n",
    "# ↑演習問題ではあらかじめinput命令が用意されています。ご安心ください。\n",
    "\n",
    "# -------------------------------------------------------------------------------\n",
    "\n",
    "# 扱う要素が数値か文字列かで若干記述が違いますが、演習時には気にしなくて構いません。\n",
    "# 数値型の場合 　: list(map(int, input(\"スペース区切りで入力してください\").split()))\n",
    "# 文字列型の場合 : list(map(str, input(\"スペース区切りで入力してください\").split()))"
   ]
  },
  {
   "cell_type": "markdown",
   "metadata": {},
   "source": [
    "---"
   ]
  },
  {
   "cell_type": "markdown",
   "metadata": {},
   "source": [
    "## 演習問題\n",
    "- 以下では「◯番目」とある場合は0から数えますが、それ以外、たとえば「◯個目」の場合は1から数えることとします。\n",
    "- あとはどのように解いても構いません。"
   ]
  },
  {
   "cell_type": "markdown",
   "metadata": {},
   "source": [
    "### リストの基本操作\n",
    "\n",
    "【課題1】`numbers`というリストを作成し、数値`1`,`2`,`3`,`4`,`5`をその要素とし、リスト`numbers`の全体を表示してください。\n",
    "\n",
    "- ヒント : リスト全体を表示するのは`print(リスト名)`でOKです"
   ]
  },
  {
   "cell_type": "code",
   "execution_count": null,
   "metadata": {},
   "outputs": [],
   "source": [
    "# 課題1\n",
    "numbers = [1, 2, 3]  #ここに要素を追加する\n",
    "print(numbers)\n"
   ]
  },
  {
   "attachments": {},
   "cell_type": "markdown",
   "metadata": {},
   "source": [
    "【課題2】数値を扱うリスト`numbers`の、`3番目`の要素のみを表示してください。\n",
    "- ヒント: `3番目`とは、4個目のことです。(コンピュータは`0番目`から数えるため)\n",
    "- (例) 1 2 3 4 5 6 7 11↩︎ → `4`"
   ]
  },
  {
   "cell_type": "code",
   "execution_count": null,
   "metadata": {},
   "outputs": [],
   "source": [
    "# 課題2 | 入力例:「1 2 3 4 5 6 7 11」↵\n",
    "numbers = list(map(int, input(\"スペース区切りで入力してください\").split()))  # 配列用のinput(数値)\n",
    "\n",
    "\n"
   ]
  },
  {
   "attachments": {},
   "cell_type": "markdown",
   "metadata": {},
   "source": [
    "【課題3】数値を扱うリスト`numbers`の、`1番目`の要素の符号を反転させてください。そしてリスト`numbers`の全体を表示してください。\n",
    "\n",
    "- 仕様: 入力される配列の要素数は2個以上とします。\n",
    "- ヒント: 表示方法は課題1と同じです。\n",
    "- (例) 10 20 30 40↩︎ → `[10, -20, 30, 40]`"
   ]
  },
  {
   "cell_type": "code",
   "execution_count": null,
   "metadata": {},
   "outputs": [],
   "source": [
    "# 課題3 | 入力例:「10 20 30 40」↵\n",
    "numbers = list(map(int, input(\"スペース区切りで入力してください\").split()))  # 配列用のinput(数値)\n",
    "\n"
   ]
  },
  {
   "attachments": {},
   "cell_type": "markdown",
   "metadata": {},
   "source": [
    "【課題4】文字列を扱うリスト`area`の要素数を、「`〇個`」という形で表示してください。\n",
    "\n",
    "- ヒント : リストの要素数は、`len()`関数で得られます。使用方法 : `len(リスト名)`\n",
    "- ヒント : 要素数は、7個あればそのまま`7個`です。\n",
    "- (例) a b c d e↩︎ → `5個`"
   ]
  },
  {
   "cell_type": "code",
   "execution_count": null,
   "metadata": {},
   "outputs": [],
   "source": [
    "# 課題4 | 入力例:「a b c d e」↵\n",
    "area = list(map(str, input(\"スペース区切りで入力してください\").split()))  # 配列用のinput(文字列)\n",
    "\n"
   ]
  },
  {
   "attachments": {},
   "cell_type": "markdown",
   "metadata": {},
   "source": [
    "【課題5】数値を扱うリスト`odd`の、最後の要素を表示してください。\n",
    "\n",
    "- ヒント : 要素数を求めるには`len()`関数を使います。\n",
    "- ヒント : 要素数は、7個あればそのまま`7個`です。その場合、最後の要素は順番としては「`6番目`」になります。(先頭が`0番目`)\n",
    "- (例) 1 3 5↩︎ → `5`"
   ]
  },
  {
   "cell_type": "code",
   "execution_count": null,
   "metadata": {},
   "outputs": [],
   "source": [
    "# 課題5 | 入力例:「1 3 5」↵\n",
    "odd = list(map(int, input(\"スペース区切りで入力してください\").split()))  # 配列用のinput(数値)\n",
    "\n"
   ]
  },
  {
   "cell_type": "markdown",
   "metadata": {},
   "source": [
    "【課題6】エラーを直そう：次のコードを修正して、正しく料理名と料金を表示できるようにしてください。\n",
    "\n",
    "- ヒント : `range`関数の中には、`foods`の要素数を入れたいです。\n",
    "- ヒント : この問題で修正したあとのfor文の形は、この後の問題でもかなりよく出てきます。"
   ]
  },
  {
   "cell_type": "code",
   "execution_count": null,
   "metadata": {},
   "outputs": [],
   "source": [
    "# 課題6\n",
    "foods = ['寿司', '天ぷら', 'ラーメン']\n",
    "prices = [1000, 800, 600]\n",
    "for i in range(foods):\n",
    "    print(foods[i], 'は', prices[i], '円です。')"
   ]
  },
  {
   "cell_type": "markdown",
   "metadata": {},
   "source": [
    "### データの探索\n",
    "【課題7】2つのinputで単語`word`とリスト`dictionary`を受け取ります。リスト`dictionary`の中で「`wordは◯番目にあります`」と出力してください。ただし、`word`が`dictionary`の中にない場合、「`word`はありません」と出力してください。\n",
    "\n",
    "- ヒント : for文の記述方法は課題6の修正後を参考にしてください。\n",
    "- ヒント : for文を途中で抜けるには、for文の中で「`break`」と書きます。\n",
    "- (例) 秋↩︎ 春 夏 秋 冬↩︎ ⇒ `秋 は 2 番目にあります`\n",
    "- (例) 11↩︎ 2 3 5 8 13 21 ⇒ `11はありません`"
   ]
  },
  {
   "cell_type": "code",
   "execution_count": null,
   "metadata": {},
   "outputs": [],
   "source": [
    "# 課題7 | 入力例:「秋」↵ 「春 夏 秋 冬」↵\n",
    "word = input(\"文字列を1つ入力してください\")                                    # 普通のInput(文字列)\n",
    "dictionary = list(map(str, input(\"スペース区切りで入力してください\").split()))  # 配列用のInput(文字列)\n",
    "\n",
    "# ----- ここに処理を追加する ----- #\n",
    "position = -1                                      # 見つからなかった場合の位置は-1とする(見つかったときに更新する)\n",
    "\n",
    "\n",
    "\n",
    "\n",
    "# ------------------------------- #\n",
    "\n",
    "if position != -1:\n",
    "    print(word,\"は\",position,\"番目にあります\")\n",
    "else:\n",
    "    print(word,\"はありません\")"
   ]
  },
  {
   "cell_type": "markdown",
   "metadata": {},
   "source": [
    "【課題8】データの入れ替えについておさらいします。プログラムを読み、指示に従ってください。"
   ]
  },
  {
   "cell_type": "code",
   "execution_count": null,
   "metadata": {},
   "outputs": [],
   "source": [
    "# 課題8\n",
    "array = [1, 12, 34 ,54, 23]\n",
    "print(\"交換前:\", array)\n",
    "\n",
    "temp = array[1]           # 交換用の変数tempを用意し、交換先[1]の値を退避\n",
    "array[1] = array[0]       # 交換元[0]を交換先[1]に代入\n",
    "array[0] = temp           # 退避しておいた値tempを交換元[0]に代入\n",
    "\n",
    "print(\"交換後:\", array)\n",
    "\n",
    "# 上の交換アルゴリズムを読んだら、下の行の「#」を消すこと。\n",
    "#print(\"交換の仕組みを理解しました\")"
   ]
  },
  {
   "cell_type": "markdown",
   "metadata": {},
   "source": [
    "【課題9】この問題では手動で選択ソートを行います。以下のアルゴリズムに従い、交換が起こるたびに、リストを`print`してください。\n",
    "\n",
    "- 選択ソートとは、リストの先頭から順に最小値を探し続けるソートアルゴリズムです。\n",
    "  1. 最小値を探す : リストの中で、今注目している位置`i`より後のすべての値を調べて、最小値を見つけます。\n",
    "  2. 値を交換する : 見つけた最小値と、今注目している位置の値を入れ替えます。\n",
    "  3. 次の位置に進む : 現在注目している位置`i`を次に進め、1と2の手順を繰り返します。\n",
    "- 以下の資料を見ると理解が速いです。(Ctrl+クリックでリンクに飛べます)\n",
    "  - https://youtu.be/A1UuoXNoy2w (動画は昇順と降順が逆の方式なので、適宜「小さいのを見つけて左に詰めていく」のように読み替えてください。)\n",
    "  - https://www.w3schools.com/dsa/dsa_algo_selectionsort.php (「Selection Sort」のボタンを押して流れを確認してください。)"
   ]
  },
  {
   "cell_type": "code",
   "execution_count": null,
   "metadata": {},
   "outputs": [],
   "source": [
    "# 課題9\n",
    "print([12, 9, 20, 6, 5]) #スタート\n",
    "print([5, 9, 20, 6, 12]) #i=0 / 0番目の値と、最小値の5を入れ替えた\n",
    "print([5, 6, 20, 9, 12]) #i=1 / 1番目の値と、最小値の6を入れ替えた (以下にi=2, i=3のときのリストを書いてください)\n",
    "print([ ])\n",
    "print([ ])"
   ]
  },
  {
   "cell_type": "markdown",
   "metadata": {},
   "source": [
    "【課題10】前問に引き続き、選択ソートでは次のルールに従ってデータの並び替えを行います。そのルールに従って、選択ソートのアルゴリズムを完成させてください。\n",
    "\n",
    "- 選択ソートとは、リストの先頭から順に最小値を探し続けるソートアルゴリズムです。\n",
    "  1. 最小値を探す : リスト`arr`の中で、現在注目している位置`i`より後のすべての値を調べて、最小値`arr[min_index]`を見つけます。※最小値の位置を`min_index`とします。\n",
    "  2. 値を入れ替える : 見つけた最小値`arr[min_index]`と、今注目している位置の値`arr[i]`を入れ替えます。\n",
    "  3. 次の場所に進む : 現在注目している位置`i`を次に進め、1と2の手順を繰り返します。\n",
    "\n",
    "- 仕様 : 今回は簡単のために、交換が起こらなかった場合でも途中で中断せず、最後まで配列を出力しつづけてください。"
   ]
  },
  {
   "cell_type": "code",
   "execution_count": null,
   "metadata": {},
   "outputs": [],
   "source": [
    "# 課題10 | 入力例:「12 9 20 6 5」↵\n",
    "arr = list(map(int, input(\"スペース区切りで入力してください\").split()))     # 配列用のinput(数値)\n",
    "\n",
    "print(arr)\n",
    "n = len(arr)                                # nはリストの要素数\n",
    "\n",
    "for i in range(n-1):                        # 最後から1つめの要素からソートするときは、最後の要素と交換されるので、n-1回繰り返す\n",
    "    min_index = i                           # 最小値の位置を保持する(暫定的にi番目を最小値とする)\n",
    "\n",
    "    # ------ ここから処理を追加 ------- #\n",
    "    for j in range(??????):                 # どこからどこまでの範囲を探索する？\n",
    "        if ??????:                          # その範囲の最小値をどうやって見つける？\n",
    "            min_index = j\n",
    "    \n",
    "    # 最小値が見つかったらarr[i]と交換する\n",
    "\n",
    "    # ----------- ここまで ---------- #\n",
    "\n",
    "    print(arr)\n"
   ]
  },
  {
   "cell_type": "markdown",
   "metadata": {},
   "source": [
    "### おまけ問題\n",
    "【課題11】`chuo_line`というリストの最後に`\"新宿\"`を追加してください。\n",
    "\n",
    "- ヒント : 要素の追加には`append()`関数を使います。\n",
    "- (例) 東京 神田 御茶ノ水 四ツ谷↵ ⇢ `['東京', '神田', '御茶ノ水', '四ツ谷', '新宿']`"
   ]
  },
  {
   "cell_type": "code",
   "execution_count": null,
   "metadata": {},
   "outputs": [],
   "source": [
    "# 課題11 | 入力例:「東京 神田 御茶ノ水 四ツ谷」↵\n",
    "chuo_line = list(map(str, input(\"スペース区切りで入力してください\").split()))  # 配列用のinput(文字列)\n"
   ]
  },
  {
   "cell_type": "markdown",
   "metadata": {},
   "source": [
    "【課題12】2つのinputで科目のリスト`subjects`と、その得点のリスト`scores`を受け取ります。最高点の科目とその点数、最低点の科目とその点数をそれぞれ表示してください。(任意課題)\n",
    "\n",
    "- (入力例) 「国語, 数学, 物理, 化学, 英語」↵ 「85, 90, 78, 88, 92」↵\n",
    "- (出力例)\n",
    "  \n",
    "        `最高点: 92 科目名: 英語`\n",
    "        `最低点: 78 科目名: 物理`"
   ]
  },
  {
   "cell_type": "code",
   "execution_count": null,
   "metadata": {},
   "outputs": [],
   "source": [
    "# 課題12 | 入力例:「国語 数学 物理 化学 英語」↵ 「85 90 78 88 92」↵\n",
    "subjects = list(map(str, input(\"スペース区切りで入力してください\").split()))    # 配列用のinput(文字列)\n",
    "scores = list(map(int, input(\"スペース区切りで入力してください\").split()))      # 配列用のinput(数値)\n",
    "\n",
    "\n",
    "\n",
    "\n",
    "\n"
   ]
  },
  {
   "cell_type": "markdown",
   "metadata": {},
   "source": [
    "【課題13】2つのinputで数値`target`と、昇順のリスト`data`を受け取ります。指定された数値`target`がリスト`data`の何番目に載っているかを表示してください。リスト`data`の中には`target`の数値がかならず存在するものとします。 なお、今回の実装では「二分探索」を使用しますので、以下のヒントを参考にしてください。\n",
    "\n",
    "- 二分探索とは、範囲の真ん中より大きいか小さいか、をひたすら繰り返す探索方法です。大きな値に強いです。\n",
    "  - (例) 1~100の数値 ⇢ 50より小さい(1~49) ⇢ 25より大きい(26~49) ⇢ 37より小さい(26~36) …\n",
    "\n",
    "- while以下の流れは以下のとおりです。\n",
    "    \n",
    "        # while left <= right: \n",
    "            # 「中央の位置」をleftとrightから求める(整数で)\n",
    "            # 「中央の位置」のdataの値が、答えと等しい場合\n",
    "                # ↪︎「中央の位置」をindexに入れて保存する\n",
    "                # ↪︎ break と書いて終了する\n",
    "            # 「中央の位置」のdataの値が、答えより小さい場合\n",
    "                # ↪︎範囲の最小leftを、「中央の位置+1」に更新\n",
    "            # 「中央の位置」のdataの値が、答えより大きい場合\n",
    "                # ↪︎範囲の最大rightを、「中央の位置-1」更新\n",
    "\n",
    "\n",
    "- (出力例) 345↵ [2, 40, 301, 345, 346, 400, 457, 680]↵ ⇢ `345の位置は3番目`"
   ]
  },
  {
   "cell_type": "code",
   "execution_count": null,
   "metadata": {},
   "outputs": [],
   "source": [
    "# 課題13 | 入力例:「345」↵ 「2 40 301 345 346 400 457 680」↵\n",
    "target = int(input(\"数値を1つ入力してください\"))                            # 普通のinput(数値)\n",
    "data = list(map(int, input(\"スペース区切りで入力してください\").split()))     # 配列用のinput(数値)\n",
    "\n",
    "index = -1               # 探索する値の位置\n",
    "left = 0                 # 現在判明している最小値の\"位置\" (最小値そのものではない)\n",
    "right = len(data) - 1    # 現在判明している最大値の\"位置\" (最大値そのものではない)\n",
    "\n",
    "# ----- ここに処理を追加する ----- #\n",
    "while left <= right:                         \n",
    "\n",
    "    \n",
    "# ------------------------------- #     \n",
    "        \n",
    "print(target, \"の位置は\", index, \"番目\")"
   ]
  },
  {
   "cell_type": "markdown",
   "metadata": {},
   "source": [
    "【課題14】バブルソートでは次のルールに従ってデータの並び替えを行います。そのルールに従って、バブルソートのアルゴリズムを完成させてください。\n",
    "\n",
    "- バブルソートとは、リストの隣り合う要素を比較しながら、値を交換することで大きい値を右端に押し出していくソートアルゴリズムです。\n",
    "  1. 隣り合う要素を比較する : リスト`arr`の比較位置`i`から順に、隣り合う要素`arr[j]`と`arr[j+1]`を比較します。\n",
    "  2. 値を入れ替える : `arr[j]`が`arr[j+1]`より大きい場合、これらの値を入れ替えます。この操作により、大きい値がリストの右側に移動します。\n",
    "  3. 次の場所に進む : 比較位置`i`を一つ右に進め、リストの最後まで1と2を繰り返します。リストの最後に達した時点で、最も大きな値がリストの右端に確定します。\n",
    "  4. 繰り返す : 確定した値を除いて、残りの部分で1~3を繰り返します。これを全ての値が確定するまで実行します。\n",
    "- 以下の資料を見ると理解が速いです。\n",
    "  - https://www.youtube.com/watch?v=IHFBb0wYBR0 (昇順と降順が逆の方式なので、適宜「左の棒の方が長かったら、左右の棒を入れ替えます」のように読み替えてください。)\n",
    "  - https://www.w3schools.com/dsa/dsa_algo_bubblesort.php (「Bubble Sort」のボタンを押して流れを確認してください。)\n",
    "- 仕様 : 今回は簡単のために、交換が起こらなかった場合でも途中で中断せず、最後まで配列を出力しつづけてください。"
   ]
  },
  {
   "cell_type": "code",
   "execution_count": null,
   "metadata": {},
   "outputs": [],
   "source": [
    "# 課題14 | 入力例:「12 9 20 6 5」↵\n",
    "arr = list(map(int, input(\"スペース区切りで入力してください\").split()))     # 配列用のinput(数値)\n",
    "print(arr)\n",
    "\n",
    "n = len(arr)                               # nはリストの要素数\n",
    "for i in range(n):\n",
    "    # ------ ここから処理を追加 ------- #\n",
    "    for j in range(??????):               # どこからどこまでの範囲を探索する？\n",
    "        if ??????:                        # どことどこを比較する？そして交換する方法？\n",
    "            \n",
    "\n",
    "            \n",
    "    # ----------- ここまで ---------- #\n",
    "    print(arr)"
   ]
  },
  {
   "cell_type": "markdown",
   "metadata": {},
   "source": [
    "【課題15】Aさんは1次元の世界で配達の仕事をしています。\n",
    "2つのinputで、本日巡るべき家`house`とその座標`pos`がそれぞれ入力されるので、座標0から最短経路で配達する場合の家の順序を出力してください。\n",
    "- (例) 「あ い う」↵ 「3 5 4」↵ → `['あ', 'う', 'い']`\n",
    "- (例) 「a b c d e f g」↵ 「3 19 12 2 4 6 5」 ↵ →  `['d', 'a', 'e', 'g', 'f', 'c', 'b']`\n",
    "- 仕様 : 住所の被りはありません。"
   ]
  },
  {
   "cell_type": "code",
   "execution_count": null,
   "metadata": {},
   "outputs": [],
   "source": [
    "# 課題15 | 入力例:「a b c d e f g」↵ 「3 19 12 2 4 6 5」↵\n",
    "house = list(map(str, input(\"スペース区切りで入力してください\").split()))      # 配列用のinput(文字列)\n",
    "pos = list(map(int, input(\"スペース区切りで入力してください\").split()))        # 配列用のinput(数値)\n",
    "\n",
    "\n",
    "\n",
    "\n",
    "\n",
    "\n",
    "\n",
    "\n",
    "\n",
    "\n",
    "\n",
    "\n",
    "\n",
    "\n",
    "\n"
   ]
  }
 ],
 "metadata": {
  "kernelspec": {
   "display_name": ".venv",
   "language": "python",
   "name": "python3"
  },
  "language_info": {
   "codemirror_mode": {
    "name": "ipython",
    "version": 3
   },
   "file_extension": ".py",
   "mimetype": "text/x-python",
   "name": "python",
   "nbconvert_exporter": "python",
   "pygments_lexer": "ipython3",
   "version": "3.10.11"
  }
 },
 "nbformat": 4,
 "nbformat_minor": 2
}
