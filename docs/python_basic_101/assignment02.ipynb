{
 "cells": [
  {
   "cell_type": "markdown",
   "metadata": {},
   "source": [
    "# Lesson 2: 変数の活用\n"
   ]
  },
  {
   "cell_type": "markdown",
   "metadata": {},
   "source": [
    "\n",
    "## 目標\n",
    "\n",
    "- 変数にデータを代入し、それを使った計算方法を学ぶ\n",
    "- ユーザーからの入力を取得し、それを利用する方法を理解する\n",
    "- 数値と文字列の変換方法を理解する\n"
   ]
  },
  {
   "cell_type": "markdown",
   "metadata": {},
   "source": [
    "\n",
    "## 概要\n",
    "\n",
    "- プログラムでは、データを変数に保存しておくことで、後で使うことができます。変数とは、データに名前をつけて記憶するための**箱のようなもの**です。\n",
    "- プログラムにユーザーからの入力を取り込むことで、より自由な動作が可能になります。Pythonでは、`input`関数を使ってキーボード入力を取得できます。\n"
   ]
  },
  {
   "cell_type": "markdown",
   "metadata": {},
   "source": [
    "\n",
    "---\n"
   ]
  },
  {
   "cell_type": "markdown",
   "metadata": {},
   "source": [
    "\n",
    "### **① 変数の定義と四則演算**\n",
    "\n",
    "- 変数は「変数名 = 値」のようにして定義します。変数名はほぼ自由に設定できます。\n",
    "- ここでの `=` は「代入」の意味であり、数学的な「等しい」の意味ではありません。「変数 ← 値」として認識すると良いかもしれません。\n"
   ]
  },
  {
   "cell_type": "code",
   "execution_count": null,
   "metadata": {},
   "outputs": [],
   "source": [
    "\n",
    "namae = \"太郎\"  #太郎の部分を自分の名前に変えてください\n",
    "print(namae)"
   ]
  },
  {
   "cell_type": "markdown",
   "metadata": {},
   "source": [
    "- **変数を用意して数値を代入し、その変数を使って計算ができます。** これがプログラミングの基本となります。\n"
   ]
  },
  {
   "cell_type": "code",
   "execution_count": null,
   "metadata": {},
   "outputs": [],
   "source": [
    "\n",
    "a = 5        # 変数aを自分で定義します\n",
    "b = 3        # 変数bを自分で定義します\n",
    "sum = a + b  # 変数sumを自分で定義します\n",
    "print(sum)"
   ]
  },
  {
   "cell_type": "markdown",
   "metadata": {},
   "source": [
    "\n",
    "### **② 自分自身への代入と、累算代入演算子**\n",
    "\n",
    "- `a = a + 10` のように、数学では見かけない式がコンピュータ上では成立します。\n",
    "これは「自分自身に10を足す」という意味になります。挙動を確認してみましょう。\n"
   ]
  },
  {
   "cell_type": "code",
   "execution_count": null,
   "metadata": {},
   "outputs": [],
   "source": [
    "a = 5\n",
    "a = a + 10\n",
    "print(a)  #ここでの出力では、aはいくつになるでしょうか？\n",
    "\n",
    "a = a + a + a\n",
    "print(a)  #ここでの出力では、aはいくつになるでしょうか？"
   ]
  },
  {
   "cell_type": "markdown",
   "metadata": {},
   "source": [
    "\n",
    "- すこし後の話になりますが、「実行のたびに値を増やす」という処理がよく登場します。よく使う処理なので、`+=`や`*=`のような「***累算代入演算子***」という記法もあります。\n"
   ]
  },
  {
   "cell_type": "code",
   "execution_count": null,
   "metadata": {},
   "outputs": [],
   "source": [
    "\n",
    "count = 1\n",
    "count += 1  # この式は「count = count + 1」と同じです。\n",
    "print(count)\n",
    "\n",
    "score = 5\n",
    "score *= 2  # この式は「score = score * 2」と同じです。得点が2倍に！\n",
    "print(score)\n",
    "\n",
    "# 他にも「-=」や「/=」などもあります。気になる方は調べてみてください。"
   ]
  },
  {
   "cell_type": "markdown",
   "metadata": {},
   "source": [
    "### **③ input関数で入力を受け取る**\n",
    "\n",
    "- `input`関数は、ユーザーからの入力を取得し、その入力を**文字列として**扱います。"
   ]
  },
  {
   "cell_type": "code",
   "execution_count": null,
   "metadata": {},
   "outputs": [],
   "source": [
    "data = input(\"何か入力してください: \")\n",
    "print(\"あなたが入力したのは:\", data)\n",
    "\n",
    "# input命令の中にはメッセージを入れられます。 \n",
    "# 無くてもいいですが、あると入力しやすいですね。 ex) data = input()"
   ]
  },
  {
   "cell_type": "markdown",
   "metadata": {},
   "source": [
    "- 文字列として扱うということは、以下の計算が妙な結果になります。\n"
   ]
  },
  {
   "cell_type": "code",
   "execution_count": null,
   "metadata": {},
   "outputs": [],
   "source": [
    "num1 = input(\"1つ目の数値を入力してください: \")\n",
    "num2 = input(\"2つ目の数値を入力してください: \")\n",
    "print(\"合計は:\", num1 + num2)\n",
    "\n",
    "# 「+」記号は文字列の場合、文字列を繋げる操作になります。"
   ]
  },
  {
   "cell_type": "markdown",
   "metadata": {},
   "source": [
    "- 文字列を数値に変換する場合、`int`関数で囲むことで、文字列を整数に変換できます。"
   ]
  },
  {
   "cell_type": "code",
   "execution_count": null,
   "metadata": {},
   "outputs": [],
   "source": [
    "num1 = int(input(\"1つ目の数値を入力してください: \"))  # ←最後の)わすれずに\n",
    "num2 = int(input(\"2つ目の数値を入力してください: \"))  # ←最後の)わすれずに\n",
    "print(\"合計は:\", num1 * num2)"
   ]
  },
  {
   "cell_type": "markdown",
   "metadata": {},
   "source": [
    "- 数値を文字列に変換する場合、`str`関数で囲むことで、変換ができます。"
   ]
  },
  {
   "cell_type": "code",
   "execution_count": null,
   "metadata": {},
   "outputs": [],
   "source": [
    "year = 2024\n",
    "month = 10\n",
    "day = 31\n",
    "print(str(year) +str(month) + str(day))  # strを消したらどうなる？"
   ]
  },
  {
   "cell_type": "markdown",
   "metadata": {},
   "source": [
    "---"
   ]
  },
  {
   "cell_type": "markdown",
   "metadata": {},
   "source": [
    "## 演習問題"
   ]
  },
  {
   "cell_type": "markdown",
   "metadata": {},
   "source": [
    "【課題1】変数`a`に`10`、変数`b`に`20`を代入し、aとbの足し算の結果を表示してください。\n"
   ]
  },
  {
   "cell_type": "code",
   "execution_count": null,
   "metadata": {},
   "outputs": [],
   "source": [
    "# 課題1\n",
    "a = \n",
    "b = \n",
    "print(\"ここに数式を入れる\")"
   ]
  },
  {
   "cell_type": "markdown",
   "metadata": {},
   "source": [
    "\n",
    "【課題2】変数`num1`に`20`、変数`num2`に`4`を代入し、割り算の結果を表示してください。\n"
   ]
  },
  {
   "cell_type": "code",
   "execution_count": null,
   "metadata": {},
   "outputs": [],
   "source": [
    "# 課題2 自分で変数を定義する。printも書く。\n"
   ]
  },
  {
   "cell_type": "markdown",
   "metadata": {},
   "source": [
    "\n",
    "【課題3】次のコードを修正して、正しく`太郎`と名前を表示できるようにしてください。\n"
   ]
  },
  {
   "cell_type": "code",
   "execution_count": null,
   "metadata": {},
   "outputs": [],
   "source": [
    "# 課題3\n",
    "name = 太郎\n",
    "print(\"名前は\", name, \"です。\")"
   ]
  },
  {
   "cell_type": "markdown",
   "metadata": {},
   "source": [
    "\n",
    "【課題4】円の半径 `radius` に`5`を代入し、円の面積を計算して表示してください。円周率は3.14とします。出力は数値のみとします。\n"
   ]
  },
  {
   "cell_type": "code",
   "execution_count": null,
   "metadata": {},
   "outputs": [],
   "source": [
    "# 課題4 自分で変数を定義する。printも書く。\n",
    "\n"
   ]
  },
  {
   "cell_type": "markdown",
   "metadata": {},
   "source": [
    "【課題5】変数`x`に`15`、変数`y`に`25`、変数`z`に`35`を代入し、その平均値を計算して「平均値は〇〇」の形で表示してください。"
   ]
  },
  {
   "cell_type": "code",
   "execution_count": null,
   "metadata": {},
   "outputs": [],
   "source": [
    "# 課題5 自分で変数を定義する\n",
    "\n",
    "\n",
    "\n",
    "print(\"平均値は\", \"ここを上書き\")"
   ]
  },
  {
   "cell_type": "markdown",
   "metadata": {},
   "source": [
    "【課題6】変数`name`にユーザーから名前を`input`命令で入力させ、「こんにちは、〇〇」という形で表示してください。"
   ]
  },
  {
   "cell_type": "code",
   "execution_count": null,
   "metadata": {},
   "outputs": [],
   "source": [
    "# 課題6 資料を参考にinput命令を書く\n",
    "\n",
    "\n",
    "print(\"こんにちは、\", name)"
   ]
  },
  {
   "cell_type": "markdown",
   "metadata": {},
   "source": [
    "【課題7】2つの`input`命令を用い、変数`num1`と変数`num2`にユーザーから数値を入力させ、「合計：〇〇」という形で表示してください。"
   ]
  },
  {
   "cell_type": "code",
   "execution_count": null,
   "metadata": {},
   "outputs": [],
   "source": [
    "# 課題7 資料を参考にinput命令を書く\n",
    "\n",
    "\n",
    "\n"
   ]
  },
  {
   "cell_type": "markdown",
   "metadata": {},
   "source": [
    "【課題8】2つの`input`命令を用い、ユーザーから**三角形の底辺**と**高さ**を入力させ、その面積を計算して「三角形の面積は〇〇です。」という形で表示してください。"
   ]
  },
  {
   "cell_type": "code",
   "execution_count": null,
   "metadata": {},
   "outputs": [],
   "source": [
    "# 課題8 変数名は自分で考えること\n",
    "\n",
    "\n"
   ]
  },
  {
   "cell_type": "markdown",
   "metadata": {},
   "source": [
    "【課題9】2つの`input`命令を用い、変数`height`に身長(m)、変数`weight`に体重(kg)を入力させ、BMIを計算して「あなたのBMIは〇〇」という形で表示してください。\n",
    "\n",
    "- (注1) BMIの計算式は**体重(kg)を身長(m)の二乗で割ったもの**です。\n",
    "- (注2)`int`は整数しか扱えないため、小数を入力する場合は`float`を使います。"
   ]
  },
  {
   "cell_type": "code",
   "execution_count": null,
   "metadata": {},
   "outputs": [],
   "source": [
    "# 課題9\n",
    "\n",
    "\n"
   ]
  },
  {
   "cell_type": "markdown",
   "metadata": {},
   "source": [
    "【課題10】3つの`input`命令を用い、変数`name`に商品名を入力させ、変数`price`に商品の価格を入力させ、変数`quantity`に購入数を入力させ、その総額を「〇〇の総額は◇◇円です。」という形で表示してください。"
   ]
  },
  {
   "cell_type": "code",
   "execution_count": null,
   "metadata": {},
   "outputs": [],
   "source": [
    "# 課題10\n",
    "name = \n",
    "price = \n",
    "quantity = \n"
   ]
  },
  {
   "cell_type": "markdown",
   "metadata": {},
   "source": [
    "【課題11】試験の得点を確認するために、変数`total`を用意してあります。追加する得点が`input`命令で3回入力されるので、点数が入力されるたびに「現在の合計得点は〇〇点です。」と出力してください。"
   ]
  },
  {
   "cell_type": "code",
   "execution_count": null,
   "metadata": {},
   "outputs": [],
   "source": [
    "# 課題11\n",
    "total = 0\n",
    "\n"
   ]
  },
  {
   "cell_type": "markdown",
   "metadata": {},
   "source": [
    "【課題12】2つの入力が与えられ、それぞれ変数`a`、変数`b`に代入されます。プログラム中の制約を守りながら、`a` と `b` の値を入れ替えた結果を出力してください。"
   ]
  },
  {
   "cell_type": "code",
   "execution_count": null,
   "metadata": {},
   "outputs": [],
   "source": [
    "# 課題12\n",
    "a = input()\n",
    "b = input()\n",
    "# ----ここから追加----\n",
    "\n",
    "\n",
    "\n",
    "\n",
    "# ----変更ここまで----\n",
    "print(a, b)"
   ]
  }
 ],
 "metadata": {
  "kernelspec": {
   "display_name": "Python 3",
   "language": "python",
   "name": "python3"
  },
  "language_info": {
   "codemirror_mode": {
    "name": "ipython",
    "version": 3
   },
   "file_extension": ".py",
   "mimetype": "text/x-python",
   "name": "python",
   "nbconvert_exporter": "python",
   "pygments_lexer": "ipython3",
   "version": "3.12.3"
  }
 },
 "nbformat": 4,
 "nbformat_minor": 2
}
