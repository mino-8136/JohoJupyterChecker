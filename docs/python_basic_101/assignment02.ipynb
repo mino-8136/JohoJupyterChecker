{
 "cells": [
  {
   "cell_type": "markdown",
   "metadata": {},
   "source": [
    "# Lesson 2: 変数の活用\n"
   ]
  },
  {
   "cell_type": "markdown",
   "metadata": {},
   "source": [
    "\n",
    "## 目標\n",
    "\n",
    "- 変数にデータを代入し、表示する方法を理解する\n",
    "- 変数を使った計算結果の表示方法を学ぶ\n"
   ]
  },
  {
   "cell_type": "markdown",
   "metadata": {},
   "source": [
    "\n",
    "## 概要\n",
    "\n",
    "- プログラムでは、データを変数に保存しておくことで、後で使うことができます。\n",
    "- 変数とは、データに名前をつけて記憶するための**箱のようなもの**です。\n",
    "- ここでは、変数にデータを代入し、それを使って計算を行う方法を学びます。\n"
   ]
  },
  {
   "cell_type": "markdown",
   "metadata": {},
   "source": [
    "\n",
    "---\n"
   ]
  },
  {
   "cell_type": "markdown",
   "metadata": {},
   "source": [
    "\n",
    "### **① 変数の定義と表示**\n",
    "\n",
    "- 変数は「変数名 = 値」のようにして定義します。変数名はほぼ自由に設定できます。\n",
    "- ここでの `=` は「代入」の意味であり、数学的な「等しい」の意味ではありません。\n",
    "「変数 ← 値」として認識すると良いかもしれません。\n"
   ]
  },
  {
   "cell_type": "code",
   "execution_count": null,
   "metadata": {},
   "outputs": [],
   "source": [
    "\n",
    "namae = \"太郎\"\n",
    "print(namae)"
   ]
  },
  {
   "cell_type": "markdown",
   "metadata": {},
   "source": [
    "\n",
    "### **② 変数を使った四則演算**\n",
    "\n",
    "- 変数を用意して数値を代入し、その変数を使って計算ができます。これがプログラミングの基本となります。\n"
   ]
  },
  {
   "cell_type": "code",
   "execution_count": null,
   "metadata": {},
   "outputs": [],
   "source": [
    "\n",
    "a = 5        # 変数aを自分で定義します\n",
    "b = 3        # 変数bを自分で定義します\n",
    "sum = a + b  # 変数sumを自分で定義します\n",
    "print(sum)"
   ]
  },
  {
   "cell_type": "markdown",
   "metadata": {},
   "source": [
    "\n",
    "### **③ 自分自身への代入と、累算代入演算子**\n",
    "\n",
    "- `a = a + 10` のように、数学では見かけない式がコンピュータ上では成立します。\n",
    "これは「自分自身に10を足す」という意味になります。挙動を確認してみましょう。\n"
   ]
  },
  {
   "cell_type": "code",
   "execution_count": null,
   "metadata": {},
   "outputs": [],
   "source": [
    "\n",
    "a = 5\n",
    "a = a + 10\n",
    "print(a)  #ここでの出力では、aはいくつになるでしょうか？\n",
    "\n",
    "a = a + a + a\n",
    "print(a)  #ここでの出力では、aはいくつになるでしょうか？"
   ]
  },
  {
   "cell_type": "markdown",
   "metadata": {},
   "source": [
    "\n",
    "- すこし後の話になりますが、「実行のたびに値を増やす」という処理がよく登場します。よく使う処理なので、`+=`や`*=`のような「***累算代入演算子***」という記法もあります。以下の例を見てください。\n"
   ]
  },
  {
   "cell_type": "code",
   "execution_count": null,
   "metadata": {},
   "outputs": [],
   "source": [
    "\n",
    "count = 1\n",
    "count += 1  # この式は「count = count + 1」と同じです。\n",
    "print(count)\n",
    "\n",
    "score = 5\n",
    "score *= 2  # この式は「score = score * 2」と同じです。得点が2倍に！\n",
    "print(score)"
   ]
  },
  {
   "cell_type": "markdown",
   "metadata": {},
   "source": [
    "---"
   ]
  },
  {
   "cell_type": "markdown",
   "metadata": {},
   "source": [
    "## 演習問題"
   ]
  },
  {
   "cell_type": "markdown",
   "metadata": {},
   "source": [
    "【課題1】`a`に`10`、`b`に`20`を代入し、`a`と`b`の足し算の結果を表示してください。\n"
   ]
  },
  {
   "cell_type": "code",
   "execution_count": null,
   "metadata": {},
   "outputs": [],
   "source": [
    "a = \n",
    "b = "
   ]
  },
  {
   "cell_type": "markdown",
   "metadata": {},
   "source": [
    "\n",
    "【課題2】変数`x`に`15`、変数`y`に`5`を代入し、`x`と`y`の引き算の結果を表示してください。\n"
   ]
  },
  {
   "cell_type": "code",
   "execution_count": null,
   "metadata": {},
   "outputs": [],
   "source": [
    "x = \n",
    "y = "
   ]
  },
  {
   "cell_type": "markdown",
   "metadata": {},
   "source": [
    "\n",
    "【課題3】変数`num1`に`20`、変数`num2`に`4`を代入し、割り算の結果を表示してください。\n"
   ]
  },
  {
   "cell_type": "code",
   "execution_count": null,
   "metadata": {},
   "outputs": [],
   "source": [
    "# 課題3 自分で変数を定義する\n"
   ]
  },
  {
   "cell_type": "markdown",
   "metadata": {},
   "source": [
    "\n",
    "【課題4】次のコードを修正して、正しく`太郎`と名前を表示できるようにしてください。\n"
   ]
  },
  {
   "cell_type": "code",
   "execution_count": null,
   "metadata": {},
   "outputs": [],
   "source": [
    "name = 太郎\n",
    "print(\"名前は\", name, \"です。\")"
   ]
  },
  {
   "cell_type": "markdown",
   "metadata": {},
   "source": [
    "\n",
    "【課題5】変数`a`に`15`、変数`b`に`25`、変数`c`に`35`を代入し、その平均値を計算してください。\n"
   ]
  },
  {
   "cell_type": "code",
   "execution_count": null,
   "metadata": {},
   "outputs": [],
   "source": [
    "# 課題5 自分で変数を定義する\n",
    "\n",
    "\n",
    "\n",
    "print(\"平均値は\", \"ここを上書き\")"
   ]
  },
  {
   "cell_type": "markdown",
   "metadata": {},
   "source": [
    "\n",
    "【課題6】円の半径 `radius` に`5`を代入し、円の面積を計算して表示してください。円周率は3.14とします。出力は数値のみとします。\n"
   ]
  },
  {
   "cell_type": "code",
   "execution_count": null,
   "metadata": {},
   "outputs": [],
   "source": [
    "# 課題6 自分で変数を定義する\n",
    "\n"
   ]
  },
  {
   "cell_type": "markdown",
   "metadata": {},
   "source": [
    "\n",
    "【課題7】変数 `a` に 7 を、変数 `b` に 3 を代入してあります。プログラム中の制約を守りながら、`a` と `b` の値を入れ替えた結果を出力してください。\n"
   ]
  },
  {
   "cell_type": "code",
   "execution_count": null,
   "metadata": {},
   "outputs": [],
   "source": [
    "a = 7\n",
    "b = 3\n",
    "\n",
    "# ----ここから追加----\n",
    "\n",
    "# ----変更ここまで----\n",
    "\n",
    "print(a, b)"
   ]
  }
 ],
 "metadata": {
  "kernelspec": {
   "display_name": "Python 3",
   "language": "python",
   "name": "python3"
  },
  "language_info": {
   "codemirror_mode": {
    "name": "ipython",
    "version": 3
   },
   "file_extension": ".py",
   "mimetype": "text/x-python",
   "name": "python",
   "nbconvert_exporter": "python",
   "pygments_lexer": "ipython3",
   "version": "3.12.3"
  }
 },
 "nbformat": 4,
 "nbformat_minor": 2
}
