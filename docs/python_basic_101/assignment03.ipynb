{
 "cells": [
  {
   "cell_type": "markdown",
   "metadata": {},
   "source": [
    "# **Lesson 3: 条件分岐とelse**\n",
    "\n",
    "## **目標**\n",
    "\n",
    "- 条件分岐を使ってプログラムの動作を制御する方法を理解する\n",
    "- if文とelseを使って複数の条件を扱う方法を理解する\n",
    "- 複数の条件を使った条件分岐を理解する\n",
    "\n",
    "## 概要\n",
    "\n",
    "- プログラムが複雑な処理を行なえるように、条件分岐（場合分け）があります。Pythonでは`if`文や`else`文を使って条件分岐を表現します。\n",
    "- `if`に加えて`elif`（else ifの略）を使うことで、複数の条件を設定できます。\n",
    "\n",
    "---\n",
    "\n",
    "### **① if文と比較演算子**\n",
    "\n",
    "- `if`文では`if 条件式:`と記述し、**指定した条件が成立する場合**、**インデントのついた行**が実行されます。\n",
    "- 以下の例では、ユーザーが 'こんにちは' を入力した場合に 'こんにちは' が表示されます。\n",
    "\n"
   ]
  },
  {
   "cell_type": "code",
   "execution_count": 13,
   "metadata": {},
   "outputs": [],
   "source": [
    "data = input(\"挨拶を入力してください: \")\n",
    "if data == \"こんにちは\":   #←「こんにちは」が入力された場合に以下を実行\n",
    "    print(\"こんにちは\")        #←行頭にインデントを付ける必要がある(TABキーです)"
   ]
  },
  {
   "cell_type": "markdown",
   "metadata": {},
   "source": [
    "\n",
    "\n",
    "- `if`文では**比較演算子**を使って条件を設定します。\n",
    "\n",
    "| 比較演算子 | 意味 | 例(適当な変数を用意) |\n",
    "| --- | --- | --- |\n",
    "| == | 等しい | `if answer == “アメリカ”:` |\n",
    "| != | 等しくない | `if answer != “コロンビア”:` |\n",
    "| > | より大きい | `if money > 10000:` |\n",
    "| < | より小さい | `if money < 5000:` |\n",
    "| >= | 以上 | `if score >= 60:` |\n",
    "| <= | 以下 | `if score <= 0:` |\n"
   ]
  },
  {
   "cell_type": "code",
   "execution_count": null,
   "metadata": {},
   "outputs": [],
   "source": [
    "# ここには自由にソースコードを書けます。色々試してみてください。\n",
    "money = int(input(\"残り金額は？\"))\n",
    "if money >= 10000:\n",
    "    print( money,\"円ですか…結構ありますね\")"
   ]
  },
  {
   "cell_type": "markdown",
   "metadata": {},
   "source": [
    "\n",
    "### **② if-else文の使用**\n",
    "\n",
    "- `if`文の条件が成立しない場合、次に`else`文の**インデントのついた行**が実行されます。\n",
    "- 以下の例では、ユーザーが `Hello` を入力した場合は `Hello`、それ以外の場合は `さようなら` が表示されます。\n"
   ]
  },
  {
   "cell_type": "code",
   "execution_count": null,
   "metadata": {},
   "outputs": [],
   "source": [
    "data = input(\"挨拶を入力してください: \")\n",
    "if data == \"Hello\":\n",
    "    print(\"Hello\")\n",
    "else:\n",
    "    print(\"さようなら\")\n",
    "\n",
    "# elseに比較演算子は必要ありません"
   ]
  },
  {
   "cell_type": "markdown",
   "metadata": {},
   "source": [
    "\n",
    "### **③ if-elif-else文の使用**\n",
    "\n",
    "- `elif`文を使用し、複数の条件を順に評価し、条件に合った処理を実行します。`elif`とは、”else if”の略になります。\n",
    "\n"
   ]
  },
  {
   "cell_type": "code",
   "execution_count": null,
   "metadata": {},
   "outputs": [],
   "source": [
    "data = input('あいさつしましょう: ')\n",
    "if data == 'Hello':\n",
    "    print('Hello')\n",
    "elif data == 'こんにちは':\n",
    "    print('こんにちは')\n",
    "elif data == '你好':\n",
    "    print('你好')\n",
    "elif data == 'Guten tag':\n",
    "    print('Guten tag')\n",
    "else:\n",
    "    print('％◆△※☆')"
   ]
  },
  {
   "cell_type": "markdown",
   "metadata": {},
   "source": [
    "----"
   ]
  },
  {
   "cell_type": "markdown",
   "metadata": {},
   "source": [
    "## 演習問題"
   ]
  },
  {
   "cell_type": "markdown",
   "metadata": {},
   "source": [
    "【課題1】次のコードを修正して、正しく実行できるようにしてください。"
   ]
  },
  {
   "cell_type": "code",
   "execution_count": null,
   "metadata": {},
   "outputs": [],
   "source": [
    "data = input()\n",
    "if data == 'yes':\n",
    "print('Yes')"
   ]
  },
  {
   "cell_type": "markdown",
   "metadata": {},
   "source": [
    "【課題2】`score`という変数にユーザーからテストの点数を入力させ、70点以上なら`\"合格です\"`、それ未満なら`\"不合格です\"`と表示してください。"
   ]
  },
  {
   "cell_type": "code",
   "execution_count": null,
   "metadata": {},
   "outputs": [],
   "source": [
    "# 課題2\n",
    "score = int(input(\"テストの点数を入力してください: \"))\n",
    "\n",
    "\n",
    "\n"
   ]
  },
  {
   "cell_type": "markdown",
   "metadata": {},
   "source": [
    "【課題3】ユーザーに正の整数を入力させ、その数値が`10`の倍数であれば`\"10の倍数\"`, そうでなければ`\"10の倍数ではない\"`と表示してください。"
   ]
  },
  {
   "cell_type": "code",
   "execution_count": null,
   "metadata": {},
   "outputs": [],
   "source": [
    "# 課題3\n",
    "num = int(input(\"数値を入力してください: \"))\n",
    "\n",
    "\n"
   ]
  },
  {
   "cell_type": "markdown",
   "metadata": {},
   "source": [
    "【課題4】エラーを直そう：次のコードを修正して、入力が`”hello”`の時に`”hello”`と実行できるようにしてください。"
   ]
  },
  {
   "cell_type": "code",
   "execution_count": null,
   "metadata": {},
   "outputs": [],
   "source": [
    "data = input()\n",
    "if data = 'hello':\n",
    "    print('hello')"
   ]
  },
  {
   "cell_type": "markdown",
   "metadata": {},
   "source": [
    "【課題5】エラーを直そう：次のコードを修正して、入力が`”exit\"`の時以外は`”Running\"`と実行できるようにしてください。"
   ]
  },
  {
   "cell_type": "code",
   "execution_count": null,
   "metadata": {},
   "outputs": [],
   "source": [
    "data = input()\n",
    "if data != 'exit'\n",
    "\tprint('Running')\n"
   ]
  },
  {
   "cell_type": "markdown",
   "metadata": {},
   "source": [
    "【課題6】ユーザーから整数を入力させ、その数値が`\"偶数\"`か`\"奇数\"`かを表示してください。\n",
    "- 【注意】負の整数にも対応させてください。"
   ]
  },
  {
   "cell_type": "code",
   "execution_count": null,
   "metadata": {},
   "outputs": [],
   "source": [
    "# 課題6\n",
    "number = int(input(\"数値を入力してください: \"))\n",
    "\n",
    "\n"
   ]
  },
  {
   "cell_type": "markdown",
   "metadata": {},
   "source": [
    "【課題7】2以上の整数`a`, `b`を受け取り、`a`が`b`の約数であれば`\"aはbの約数です\"`と表示し、そうでなければ`\"aはbの約数ではありません\"`と表示してください。"
   ]
  },
  {
   "cell_type": "code",
   "execution_count": null,
   "metadata": {},
   "outputs": [],
   "source": [
    "# 課題7\n",
    "a = int(input())\n",
    "b = int(input())\n",
    "\n",
    "\n"
   ]
  },
  {
   "cell_type": "markdown",
   "metadata": {},
   "source": [
    "【課題8】エラーを直そう：次のコードを修正して、0のときに`”Zero”`、1のときに`”One”`、2のときに`”Two”`、それ以外では`”Other”`と正しく実行できるようにしてください。"
   ]
  },
  {
   "cell_type": "code",
   "execution_count": null,
   "metadata": {},
   "outputs": [],
   "source": [
    "data = int(input())\n",
    "if data == 0:\n",
    "    print('Zero')\n",
    "elif data == 1:\n",
    "    print('One')\n",
    "else:\n",
    "\t\tprint('Two')\n",
    "else:\n",
    "    print('Other')"
   ]
  },
  {
   "cell_type": "markdown",
   "metadata": {},
   "source": [
    "【課題9】`number`という変数にユーザーから数値を入力させ、その数値が`0`より大きければ`正`、`0`より小さければ`負`と表示し、`0`であれば`0`と表示してください。"
   ]
  },
  {
   "cell_type": "code",
   "execution_count": null,
   "metadata": {},
   "outputs": [],
   "source": [
    "# 課題9\n",
    "number = int(input(\"数値を入力: \"))\n",
    "\n",
    "\n"
   ]
  },
  {
   "cell_type": "markdown",
   "metadata": {},
   "source": [
    "【課題10】`score`という変数にユーザーから点数を入力させ、その点数が`90`以上なら`\"A\"`、`80`以上なら`\"B\"`、`70`以上なら`\"C\"`、`60`以上なら`\"D\"`、それ以下なら`\"E\"`と表示してください。"
   ]
  },
  {
   "cell_type": "code",
   "execution_count": null,
   "metadata": {},
   "outputs": [],
   "source": [
    "# 課題10(推奨課題)\n",
    "score = int(input(\"点数を入力してください: \"))\n",
    "\n"
   ]
  },
  {
   "cell_type": "markdown",
   "metadata": {},
   "source": [
    "【課題11】ユーザーから曜日を入力させ、その曜日が`\"土\"`または`\"日\"`なら`\"週末です\"`、それ以外の曜日なら`\"平日です\"`、存在しない曜日なら`”エラーです”`と表示してください。\n",
    "- 【注意】2つ以上の条件はorやandを使うと`if a==1 or a==2:` や`if a>=1 and a<=10:` のようにまとめられます。"
   ]
  },
  {
   "cell_type": "code",
   "execution_count": null,
   "metadata": {},
   "outputs": [],
   "source": [
    "# 課題11\n",
    "day = input(\"曜日を入力してください: \")\n",
    "\n",
    "\n",
    "\n"
   ]
  },
  {
   "cell_type": "markdown",
   "metadata": {},
   "source": [
    "【課題12】`month`という変数にユーザーから月を入力させ、その月が`12`、`1`、`2`なら`\"冬\"`、`3`、`4`、`5`なら`\"春\"`、`6`、`7`、`8`なら`\"夏\"`、`9`、`10`、`11`なら`\"秋\"`と表示してください。存在しない月の場合は`無効な月です`と表示してください。"
   ]
  },
  {
   "cell_type": "code",
   "execution_count": null,
   "metadata": {},
   "outputs": [],
   "source": [
    "# 課題12\n",
    "month = int(input(\"月を入力してください: \"))\n",
    "\n",
    "\n"
   ]
  },
  {
   "cell_type": "markdown",
   "metadata": {},
   "source": [
    "【課題13】ユーザーに3つの数値を入力させ、それらの数値のうち最も大きな数値を表示してください。もし3つの数値が等しい場合は`\"すべての数値は等しいです\"`と表示してください。"
   ]
  },
  {
   "cell_type": "code",
   "execution_count": null,
   "metadata": {},
   "outputs": [],
   "source": [
    "# 課題13\n",
    "num1 = int(input(\"1つ目の数値を入力してください: \"))\n",
    "num2 = int(input(\"2つ目の数値を入力してください: \"))\n",
    "num3 = int(input(\"3つ目の数値を入力してください: \"))\n",
    "\n"
   ]
  },
  {
   "cell_type": "markdown",
   "metadata": {},
   "source": [
    "【課題14】3つの数値の最小値と最大値を計算し、それを表示してください。計算の方法は問いません。"
   ]
  },
  {
   "cell_type": "code",
   "execution_count": null,
   "metadata": {},
   "outputs": [],
   "source": [
    "# 課題14\n",
    "a = int(input(\"1つ目の数値を入力してください: \"))\n",
    "b = int(input(\"2つ目の数値を入力してください: \"))\n",
    "c = int(input(\"3つ目の数値を入力してください: \"))\n",
    "\n",
    "\n",
    "\n",
    "\n",
    "print(\"最小値は\",\"ここを上書き\", \"最大値は\", \"ここを上書き\")"
   ]
  }
 ],
 "metadata": {
  "kernelspec": {
   "display_name": "Python 3",
   "language": "python",
   "name": "python3"
  },
  "language_info": {
   "codemirror_mode": {
    "name": "ipython",
    "version": 3
   },
   "file_extension": ".py",
   "mimetype": "text/x-python",
   "name": "python",
   "nbconvert_exporter": "python",
   "pygments_lexer": "ipython3",
   "version": "3.12.3"
  }
 },
 "nbformat": 4,
 "nbformat_minor": 2
}
