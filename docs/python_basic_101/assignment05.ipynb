{
 "cells": [
  {
   "cell_type": "markdown",
   "metadata": {},
   "source": [
    "# **Lesson 5: for文とrange関数**\n",
    "\n",
    "## **目標**\n",
    "\n",
    "- for文を使ってループ処理を理解する\n",
    "- range関数を使って指定範囲内の数値を生成する方法を理解する\n",
    "\n",
    "## 概要\n",
    "\n",
    "- for文は、指定した回数だけ繰り返し処理を行うための構文です。\n",
    "- range関数は、指定した範囲の数値を生成するために使用します。\n",
    "\n",
    "---\n"
   ]
  },
  {
   "cell_type": "markdown",
   "metadata": {},
   "source": [
    "\n",
    "### **① for文の基本操作**\n",
    "\n",
    "- `for`文は、指定した範囲やリストの要素を順番に取り出して処理を行います。\n",
    "    - 行われる処理はif文と同じで、**インデントのついた行**が実行されます。\n",
    "    - `for 変数 in range(n):` という形が基本になります。文末の「`:`」を忘れずに。\n",
    "\n"
   ]
  },
  {
   "cell_type": "code",
   "execution_count": null,
   "metadata": {},
   "outputs": [],
   "source": [
    "for i in range(5):      # 0から4までの範囲を、iに順に代入\n",
    "    print(i)            # iを表示\n",
    "\n",
    "# range(50000)とかにすると…？"
   ]
  },
  {
   "cell_type": "markdown",
   "metadata": {},
   "source": [
    "\n",
    "### **② range関数の使用**\n",
    "\n",
    "- `range`関数は、指定した範囲の数値を生成します。()の中身によって挙動が変わります。\n",
    "    - **`range(stop)` : `0`から始まり、`stop`の直前で終わる(基本)**\n",
    "    - `range(start,stop)`  :  `start`から始まり、`stop`の直前で終わる\n",
    "    - `range(start,stop,step`)  : `start`から始まり、`stop`の直前で終わるが、`step`ずつ増える\n"
   ]
  },
  {
   "cell_type": "code",
   "execution_count": null,
   "metadata": {},
   "outputs": [],
   "source": [
    "# 1つめのバージョン\n",
    "for i in range(10):\n",
    "    print(i)\n",
    "\n",
    "# 2つめのバージョン\n",
    "for i in range(10, 20):\n",
    "    print(i)\n",
    "\n",
    "# 3つめのバージョン\n",
    "for i in range(10, 20, 2):\n",
    "    print(i)"
   ]
  },
  {
   "cell_type": "markdown",
   "metadata": {},
   "source": [
    "\n",
    "### **③ while文の利用(受験を見据えて…)**\n",
    "\n",
    "- pythonのfor文は便利なのですが、共通テストなどでは**while文**のような見た目の出題が割と標準的かもしれません。\n",
    "- `while 条件式:`と記述し、**指定した条件式が成立する間**、処理を繰り返し実行します。while文は「何回実行すればいいか前もってわからない場合」に扱いやすいです。\n",
    "\n"
   ]
  },
  {
   "cell_type": "code",
   "execution_count": null,
   "metadata": {},
   "outputs": [],
   "source": [
    "limit = int(input(\"いくつまで数えるか入力してください\"))\n",
    "\n",
    "i = 0              # 初期値の設定\n",
    "while i < limit:   # iがlimitを超えない間は以下を実行する\n",
    "    print(i)\n",
    "    i = i + 1      # iの値を1増やす (i += 1 と同じ)"
   ]
  },
  {
   "cell_type": "markdown",
   "metadata": {},
   "source": [
    "---"
   ]
  },
  {
   "cell_type": "markdown",
   "metadata": {},
   "source": [
    "以下は「答えがあっていればなんでもいい」ので、for文を使わずに解いても構いません。\n",
    "\n",
    "今回の課題では、例えば「100まで」と書いてある場合には「100以下」を意味します。"
   ]
  },
  {
   "cell_type": "markdown",
   "metadata": {},
   "source": [
    "----"
   ]
  },
  {
   "cell_type": "markdown",
   "metadata": {},
   "source": [
    "## 演習問題"
   ]
  },
  {
   "cell_type": "markdown",
   "metadata": {},
   "source": [
    "【課題1】バグを直そう : `0`から`20`までの整数を1行ずつ表示してください。そして、`20`まで数え終わったら「`終了`」と表示してください。"
   ]
  },
  {
   "cell_type": "code",
   "execution_count": null,
   "metadata": {},
   "outputs": [],
   "source": [
    "# 課題1\n",
    "for i in range(21):\n",
    "    print(i)\n",
    "    print(\"終了\")"
   ]
  },
  {
   "cell_type": "markdown",
   "metadata": {},
   "source": [
    "【課題2】`50`から`100`までの整数を1行ずつ表示してください。"
   ]
  },
  {
   "cell_type": "code",
   "execution_count": null,
   "metadata": {},
   "outputs": [],
   "source": [
    "# 課題2 (inputなし)\n",
    "for i in range(5, 20):\n",
    "    print(\"???\")"
   ]
  },
  {
   "cell_type": "markdown",
   "metadata": {},
   "source": [
    "【課題3】inputで0以上の整数`N`を受け取る。`0`から`N-1`までの数値を1行ずつ表示してください。"
   ]
  },
  {
   "cell_type": "code",
   "execution_count": null,
   "metadata": {},
   "outputs": [],
   "source": [
    "# 課題3\n",
    "N = int(input())\n",
    "\n",
    "\n",
    "\n"
   ]
  },
  {
   "cell_type": "markdown",
   "metadata": {},
   "source": [
    "【課題4】ときには眠れない夜もある。そんな場合は「羊を数えるといい」とも言われるが、手動で数えるのは面倒だ。そこでプログラミングの力を借りてみよう。\n",
    "\n",
    "inputで1以上の整数`N`を受け取るので、指定された数だけ「`羊が◯匹`」と数えて表示してください。ただし、1匹から数えて、N匹目も数えることとします。N匹目を数え終わったら寝ているはずなので、追加で「`zzz`」と表示してください。"
   ]
  },
  {
   "cell_type": "code",
   "execution_count": null,
   "metadata": {},
   "outputs": [],
   "source": [
    "# 課題4\n",
    "N = int(input())\n",
    "\n",
    "\n",
    "\n"
   ]
  },
  {
   "cell_type": "markdown",
   "metadata": {},
   "source": [
    "【課題5】inputで1以上の整数`N`を受け取る。`1`から`N`までの総和を求めてください。"
   ]
  },
  {
   "cell_type": "code",
   "execution_count": null,
   "metadata": {},
   "outputs": [],
   "source": [
    "# 課題5\n",
    "N = int(input())\n",
    "\n",
    "\n",
    "\n"
   ]
  },
  {
   "cell_type": "markdown",
   "metadata": {},
   "source": [
    "【課題6】エラーを直そう : `5`から`75`までの奇数を表示してください。"
   ]
  },
  {
   "cell_type": "code",
   "execution_count": null,
   "metadata": {},
   "outputs": [],
   "source": [
    "# 課題6\n",
    "for i in range(5, 76):\n",
    "if i % 2 != 0:\n",
    "print(i)\n"
   ]
  },
  {
   "cell_type": "markdown",
   "metadata": {},
   "source": [
    "【課題7】`1`から`100`までの数値のうち、`3`の倍数かつ`5`の倍数の数値を、1行ずつ表示してください。"
   ]
  },
  {
   "cell_type": "code",
   "execution_count": null,
   "metadata": {},
   "outputs": [],
   "source": [
    "# 課題7 (inputなし)\n",
    "\n",
    "\n",
    "\n",
    "\n"
   ]
  },
  {
   "cell_type": "markdown",
   "metadata": {},
   "source": [
    "【課題8】以下のルールに従い、FizzBuzz問題を回答せよ。(222点)\n",
    "\n",
    "- (条件1) `1`から順番に`100`まで数を数える\n",
    "- (条件2) `3`の倍数のときは、数字の代わりに「`Fizz`」を出力する\n",
    "- (条件3) `5`の倍数のときは、数字の代わりに「`Buzz`」を出力する\n",
    "- (条件4) `15`の倍数のときは、数字の代わりに「`FizzBuzz`」を出力する"
   ]
  },
  {
   "cell_type": "code",
   "execution_count": null,
   "metadata": {},
   "outputs": [],
   "source": [
    "# 課題8 (inputなし)\n",
    "\n",
    "\n",
    "\n",
    "\n",
    "\n",
    "\n"
   ]
  },
  {
   "cell_type": "markdown",
   "metadata": {},
   "source": [
    "【課題9】inputで2以上の整数`N`を受け取ります。その数が2で何回割り切れるかを求めてください。(111点)\n",
    "\n",
    "- (例) 16 → `4回`\n",
    "- (例) 100 → `2回`"
   ]
  },
  {
   "cell_type": "code",
   "execution_count": null,
   "metadata": {},
   "outputs": [],
   "source": [
    "# 課題9 (while推奨)\n",
    "N = int(input())\n",
    "\n",
    "\n",
    "\n",
    "\n",
    "\n"
   ]
  },
  {
   "cell_type": "markdown",
   "metadata": {},
   "source": [
    "【課題10】2つのinputでAさん、Bさんのテストの点数`score_A`, `score_B`が与えられます。10点ごとに「■」を繋げて出力してください。入力される値は0以上100以下の整数です。(50点)\n",
    "- (例) 90↵ 20↵\n",
    "   \n",
    "        A: 90 ■■■■■■■■■■■■\n",
    "        B: 20 ■■"
   ]
  },
  {
   "cell_type": "code",
   "execution_count": null,
   "metadata": {},
   "outputs": [],
   "source": [
    "# 課題10 : ■ ← これを使います\n",
    "score_A = int(input())\n",
    "score_B = int(input())\n",
    "\n",
    "\n",
    "\n",
    "\n",
    "\n",
    "\n"
   ]
  },
  {
   "cell_type": "markdown",
   "metadata": {},
   "source": [
    "【課題11】inputで2以上の整数`num`を受け取ります。その数値`num`が素数かどうかを判定し、素数なら「`numは素数です`」、そうでないなら「`numは素数ではありません`」と表示してください。(50点)\n",
    "- (注) for文中で処理を中断するには「`break`」と書きます。\n",
    "- (注) for文中で強制的に次のループに行く場合は、「`continue`」と書きます。\n",
    "- (例1) 19 → `19は素数です`\n",
    "- (例2) 35 → `35は素数ではありません`"
   ]
  },
  {
   "cell_type": "code",
   "execution_count": null,
   "metadata": {},
   "outputs": [],
   "source": [
    "# 課題11\n",
    "num = int(input(\"数値を入力してください: \"))\n",
    "\n",
    "\n",
    "\n",
    "\n",
    "\n",
    "\n",
    "\n",
    "\n",
    "\n"
   ]
  },
  {
   "cell_type": "markdown",
   "metadata": {},
   "source": [
    "【課題12】`1`から`500`までの数値のうち、素数を1行ずつすべて表示してください。(50点)"
   ]
  },
  {
   "cell_type": "code",
   "execution_count": null,
   "metadata": {},
   "outputs": [],
   "source": [
    "# 課題12 (inputなし)\n",
    "\n",
    "\n",
    "\n",
    "\n",
    "\n",
    "\n",
    "\n",
    "\n"
   ]
  },
  {
   "cell_type": "markdown",
   "metadata": {},
   "source": [
    "【課題13】移動コマンド`command`が文字列で入力されます。「↑↓←→」のそれぞれで上下左右に1マスずつ移動します。初期座標が`(0,0)`であるとき、移動後の座標を出力してください。(50点)\n",
    "\n",
    "- (注) X軸は右向きが正、Y軸は下向きが正とします。Y軸が数学と逆なので注意。\n",
    "- (例1) ↑↑←← ⇒ `(-2,-2)`\n",
    "- (例2) ←↑←→→↓ ⇒ `(0,0)`"
   ]
  },
  {
   "cell_type": "code",
   "execution_count": null,
   "metadata": {},
   "outputs": [],
   "source": [
    "# 課題13 : ↑↓←→ ← これを使います\n",
    "command = input()\n",
    "\n",
    "\n",
    "\n",
    "\n",
    "\n",
    "\n"
   ]
  }
 ],
 "metadata": {
  "kernelspec": {
   "display_name": ".venv",
   "language": "python",
   "name": "python3"
  },
  "language_info": {
   "codemirror_mode": {
    "name": "ipython",
    "version": 3
   },
   "file_extension": ".py",
   "mimetype": "text/x-python",
   "name": "python",
   "nbconvert_exporter": "python",
   "pygments_lexer": "ipython3",
   "version": "3.10.11"
  }
 },
 "nbformat": 4,
 "nbformat_minor": 2
}
