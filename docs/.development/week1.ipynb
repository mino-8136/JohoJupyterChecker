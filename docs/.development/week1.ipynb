{
 "cells": [
  {
   "cell_type": "markdown",
   "id": "8e42ac45",
   "metadata": {},
   "source": [
    "## 演習問題"
   ]
  },
  {
   "cell_type": "markdown",
   "id": "a0312f7f",
   "metadata": {},
   "source": [
    "### 課題1\n",
    "\n",
    "二つの数の和を計算するプログラムを作成してください。\n",
    "- 入力例: `1 2`\n",
    "- 出力例: `3`"
   ]
  },
  {
   "cell_type": "code",
   "execution_count": 3,
   "id": "14ef12b9",
   "metadata": {
    "metadata": {}
   },
   "outputs": [
    {
     "name": "stdout",
     "output_type": "stream",
     "text": [
      "3\n"
     ]
    }
   ],
   "source": [
    "# 課題1\n",
    "# ここにコードを追加してください\n",
    "a = input()\n",
    "b = input()\n",
    "print(int(a) + int(b))"
   ]
  },
  {
   "cell_type": "markdown",
   "id": "5ea0e875",
   "metadata": {},
   "source": [
    "### 課題2\n",
    "\n",
    "二つの数の積を計算するプログラムを作成してください。\n",
    "\n",
    "- 入力例: `3 5`\n",
    "- 出力例: `15`"
   ]
  },
  {
   "cell_type": "code",
   "execution_count": 6,
   "id": "cbe3ab4d",
   "metadata": {
    "metadata": {}
   },
   "outputs": [
    {
     "name": "stdout",
     "output_type": "stream",
     "text": [
      "15\n"
     ]
    }
   ],
   "source": [
    "# 課題2\n",
    "a = input()\n",
    "b = input()\n",
    "# ここにコードを追加してください\n",
    "print(int(a) * int(b))"
   ]
  },
  {
   "cell_type": "markdown",
   "id": "219f81ad",
   "metadata": {},
   "source": [
    "### 課題3\n",
    "\n",
    "与えられた数の階乗を計算するプログラムを作成してください。\n",
    "\n",
    "- 入力例: `5`\n",
    "- 出力例: `120`"
   ]
  },
  {
   "cell_type": "code",
   "execution_count": null,
   "id": "f2942bc4",
   "metadata": {},
   "outputs": [],
   "source": [
    "# 課題3\n",
    "input_data = input().strip().split()\n",
    "# ここにコードを追加してください\n",
    "print(120)"
   ]
  },
  {
   "cell_type": "markdown",
   "id": "bd22f9df",
   "metadata": {},
   "source": [
    "### 課題4\n",
    "\n",
    "与えられた数の二乗を計算するプログラムを作成してください。\n",
    "\n",
    "- 入力例: `4`\n",
    "- 出力例: `16`"
   ]
  },
  {
   "cell_type": "code",
   "execution_count": 1,
   "id": "a772070e",
   "metadata": {
    "metadata": {}
   },
   "outputs": [
    {
     "ename": "NameError",
     "evalue": "name 'fdjaj' is not defined",
     "output_type": "error",
     "traceback": [
      "\u001b[1;31m---------------------------------------------------------------------------\u001b[0m",
      "\u001b[1;31mNameError\u001b[0m                                 Traceback (most recent call last)",
      "\u001b[1;32m~\\AppData\\Local\\Temp/ipykernel_64000/1440795995.py\u001b[0m in \u001b[0;36m<module>\u001b[1;34m\u001b[0m\n\u001b[0;32m      2\u001b[0m \u001b[0minput_data\u001b[0m \u001b[1;33m=\u001b[0m \u001b[0minput\u001b[0m\u001b[1;33m(\u001b[0m\u001b[1;33m)\u001b[0m\u001b[1;33m.\u001b[0m\u001b[0mstrip\u001b[0m\u001b[1;33m(\u001b[0m\u001b[1;33m)\u001b[0m\u001b[1;33m.\u001b[0m\u001b[0msplit\u001b[0m\u001b[1;33m(\u001b[0m\u001b[1;33m)\u001b[0m\u001b[1;33m\u001b[0m\u001b[1;33m\u001b[0m\u001b[0m\n\u001b[0;32m      3\u001b[0m \u001b[1;31m# ここにコードを追加してください\u001b[0m\u001b[1;33m\u001b[0m\u001b[1;33m\u001b[0m\u001b[0m\n\u001b[1;32m----> 4\u001b[1;33m \u001b[0mfdjaj\u001b[0m\u001b[1;33m\u001b[0m\u001b[1;33m\u001b[0m\u001b[0m\n\u001b[0m",
      "\u001b[1;31mNameError\u001b[0m: name 'fdjaj' is not defined"
     ]
    }
   ],
   "source": [
    "# 課題4\n",
    "input_data = input().strip().split()\n",
    "# ここにコードを追加してください\n",
    "fdjaj"
   ]
  },
  {
   "cell_type": "markdown",
   "id": "ee88a081",
   "metadata": {},
   "source": [
    "### 課題5\n",
    "\n",
    "与えられた数の階乗を計算するプログラムを作成してください。\n",
    "\n",
    "- 入力例: `6`\n",
    "- 出力例: `720`"
   ]
  },
  {
   "cell_type": "code",
   "execution_count": null,
   "id": "68231894",
   "metadata": {},
   "outputs": [],
   "source": [
    "# 課題5\n",
    "input_data = input().strip().split()\n",
    "# ここにコードを追加してください\n"
   ]
  }
 ],
 "metadata": {
  "kernelspec": {
   "display_name": "Python 3",
   "language": "python",
   "name": "python3"
  },
  "language_info": {
   "codemirror_mode": {
    "name": "ipython",
    "version": 3
   },
   "file_extension": ".py",
   "mimetype": "text/x-python",
   "name": "python",
   "nbconvert_exporter": "python",
   "pygments_lexer": "ipython3",
   "version": "3.9.7"
  }
 },
 "nbformat": 4,
 "nbformat_minor": 5
}
